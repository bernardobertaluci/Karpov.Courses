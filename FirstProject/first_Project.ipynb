{
 "cells": [
  {
   "cell_type": "code",
   "execution_count": 1,
   "metadata": {},
   "outputs": [],
   "source": [
    "import requests\n",
    "import pandas as pd\n",
    "from urllib.parse import urlencode\n",
    "import tempfile\n",
    "import numpy as np\n",
    "import matplotlib.pyplot as plt"
   ]
  },
  {
   "cell_type": "code",
   "execution_count": 2,
   "metadata": {},
   "outputs": [],
   "source": [
    "#получаем датасеты по ссылкам\n",
    "def read_df_on_yandex(public_key):\n",
    "    base_url = 'https://cloud-api.yandex.net/v1/disk/public/resources/download?' \n",
    "\n",
    "    final_url = base_url + urlencode(dict(public_key=public_key)) \n",
    "    response = requests.get(final_url) \n",
    "    download_url = response.json()['href'] \n",
    "\n",
    "    download_response = requests.get(download_url) \n",
    "\n",
    "    with tempfile.NamedTemporaryFile(delete=False) as f:\n",
    "        f.write(download_response.content)\n",
    "        temp_file_path = f.name\n",
    "\n",
    "    df = pd.read_csv(temp_file_path)\n",
    "    return df\n",
    "\n",
    "assessments = read_df_on_yandex('https://disk.yandex.ru/d/iSVP1sZ7AdW7TQ')\n",
    "courses = read_df_on_yandex('https://disk.yandex.ru/d/jmJxR8yhwCXlaw')\n",
    "studentAssessment = read_df_on_yandex('https://disk.yandex.ru/d/DYd4M5b_8RETsA')\n",
    "studentRegistration = read_df_on_yandex('https://disk.yandex.ru/d/lqHnH8NOZ458iw')"
   ]
  },
  {
   "cell_type": "code",
   "execution_count": 3,
   "metadata": {},
   "outputs": [],
   "source": [
    "#Задание 1. Сколько студентов успешно сдали только один курс? (Успешная сдача — это зачёт по курсу на экзамене)"
   ]
  },
  {
   "cell_type": "code",
   "execution_count": 4,
   "metadata": {},
   "outputs": [],
   "source": [
    "#берем экзамены\n",
    "assessments_exam = assessments[assessments['assessment_type'] == 'Exam']"
   ]
  },
  {
   "cell_type": "code",
   "execution_count": 5,
   "metadata": {},
   "outputs": [],
   "source": [
    "#соединяем по id экзамена со студентами, чтобы получить их id\n",
    "assessments_exam_merge = assessments_exam.merge(studentAssessment, on='id_assessment')"
   ]
  },
  {
   "cell_type": "code",
   "execution_count": 6,
   "metadata": {},
   "outputs": [],
   "source": [
    "#Оценка ниже 40 неудачная/неуспешная сдача теста. Фильтруем только тех кто успешно сдал экзамен\n",
    "success_exam = assessments_exam_merge.query('score >= 40')"
   ]
  },
  {
   "cell_type": "code",
   "execution_count": 7,
   "metadata": {},
   "outputs": [],
   "source": [
    "#берем студентов, которые не забросили учёбу и закончили курс\n",
    "studentRegistration_finish = studentRegistration[studentRegistration['date_unregistration'].isna()]"
   ]
  },
  {
   "cell_type": "code",
   "execution_count": 8,
   "metadata": {},
   "outputs": [],
   "source": [
    "#соединяем таблицы успешно сдавших экзамен и не забросивших курс\n",
    "success_exam_and_reg = studentRegistration_finish.merge(success_exam, on=['id_student', 'code_module', 'code_presentation'])"
   ]
  },
  {
   "cell_type": "code",
   "execution_count": 9,
   "metadata": {},
   "outputs": [
    {
     "data": {
      "text/plain": [
       "3805"
      ]
     },
     "execution_count": 9,
     "metadata": {},
     "output_type": "execute_result"
    }
   ],
   "source": [
    "#считаем кол-во учащихся у которых не более одного успешно сданного курса\n",
    "success_exam_and_reg_count = success_exam_and_reg.groupby('id_student')['code_module'].nunique()\n",
    "success_exam_and_reg_count[success_exam_and_reg_count <= 1].count()"
   ]
  },
  {
   "cell_type": "code",
   "execution_count": 10,
   "metadata": {},
   "outputs": [],
   "source": [
    "#Задание 2. Выяви самый сложный и самый простой экзамен: найди курсы и экзамены в рамках курса,\n",
    "#которые обладают самой низкой и самой высокой завершаемостью"
   ]
  },
  {
   "cell_type": "code",
   "execution_count": 11,
   "metadata": {},
   "outputs": [
    {
     "data": {
      "text/html": [
       "<div>\n",
       "<style scoped>\n",
       "    .dataframe tbody tr th:only-of-type {\n",
       "        vertical-align: middle;\n",
       "    }\n",
       "\n",
       "    .dataframe tbody tr th {\n",
       "        vertical-align: top;\n",
       "    }\n",
       "\n",
       "    .dataframe thead th {\n",
       "        text-align: right;\n",
       "    }\n",
       "</style>\n",
       "<table border=\"1\" class=\"dataframe\">\n",
       "  <thead>\n",
       "    <tr style=\"text-align: right;\">\n",
       "      <th></th>\n",
       "      <th>code_module</th>\n",
       "      <th>code_presentation</th>\n",
       "      <th>id_assessment</th>\n",
       "      <th>assessment_type</th>\n",
       "      <th>attempts</th>\n",
       "    </tr>\n",
       "  </thead>\n",
       "  <tbody>\n",
       "    <tr>\n",
       "      <th>0</th>\n",
       "      <td>CCC</td>\n",
       "      <td>2014B</td>\n",
       "      <td>24290</td>\n",
       "      <td>Exam</td>\n",
       "      <td>747</td>\n",
       "    </tr>\n",
       "    <tr>\n",
       "      <th>1</th>\n",
       "      <td>CCC</td>\n",
       "      <td>2014J</td>\n",
       "      <td>24299</td>\n",
       "      <td>Exam</td>\n",
       "      <td>1168</td>\n",
       "    </tr>\n",
       "    <tr>\n",
       "      <th>2</th>\n",
       "      <td>DDD</td>\n",
       "      <td>2013B</td>\n",
       "      <td>25340</td>\n",
       "      <td>Exam</td>\n",
       "      <td>602</td>\n",
       "    </tr>\n",
       "    <tr>\n",
       "      <th>3</th>\n",
       "      <td>DDD</td>\n",
       "      <td>2013J</td>\n",
       "      <td>25354</td>\n",
       "      <td>Exam</td>\n",
       "      <td>968</td>\n",
       "    </tr>\n",
       "    <tr>\n",
       "      <th>4</th>\n",
       "      <td>DDD</td>\n",
       "      <td>2014B</td>\n",
       "      <td>25361</td>\n",
       "      <td>Exam</td>\n",
       "      <td>524</td>\n",
       "    </tr>\n",
       "    <tr>\n",
       "      <th>5</th>\n",
       "      <td>DDD</td>\n",
       "      <td>2014J</td>\n",
       "      <td>25368</td>\n",
       "      <td>Exam</td>\n",
       "      <td>950</td>\n",
       "    </tr>\n",
       "  </tbody>\n",
       "</table>\n",
       "</div>"
      ],
      "text/plain": [
       "  code_module code_presentation  id_assessment assessment_type  attempts\n",
       "0         CCC             2014B          24290            Exam       747\n",
       "1         CCC             2014J          24299            Exam      1168\n",
       "2         DDD             2013B          25340            Exam       602\n",
       "3         DDD             2013J          25354            Exam       968\n",
       "4         DDD             2014B          25361            Exam       524\n",
       "5         DDD             2014J          25368            Exam       950"
      ]
     },
     "execution_count": 11,
     "metadata": {},
     "output_type": "execute_result"
    }
   ],
   "source": [
    "# посчитаем количество попыток сдачи экзаменов для каждого курса и экзамена\n",
    "attempts_per_exam = assessments_exam_merge.groupby(['code_module', 'code_presentation', 'id_assessment', 'assessment_type']).size().reset_index(name='attempts')\n",
    "attempts_per_exam"
   ]
  },
  {
   "cell_type": "code",
   "execution_count": 12,
   "metadata": {},
   "outputs": [
    {
     "data": {
      "text/html": [
       "<div>\n",
       "<style scoped>\n",
       "    .dataframe tbody tr th:only-of-type {\n",
       "        vertical-align: middle;\n",
       "    }\n",
       "\n",
       "    .dataframe tbody tr th {\n",
       "        vertical-align: top;\n",
       "    }\n",
       "\n",
       "    .dataframe thead th {\n",
       "        text-align: right;\n",
       "    }\n",
       "</style>\n",
       "<table border=\"1\" class=\"dataframe\">\n",
       "  <thead>\n",
       "    <tr style=\"text-align: right;\">\n",
       "      <th></th>\n",
       "      <th>code_module</th>\n",
       "      <th>code_presentation</th>\n",
       "      <th>id_assessment</th>\n",
       "      <th>assessment_type</th>\n",
       "      <th>passed</th>\n",
       "    </tr>\n",
       "  </thead>\n",
       "  <tbody>\n",
       "    <tr>\n",
       "      <th>0</th>\n",
       "      <td>CCC</td>\n",
       "      <td>2014B</td>\n",
       "      <td>24290</td>\n",
       "      <td>Exam</td>\n",
       "      <td>664</td>\n",
       "    </tr>\n",
       "    <tr>\n",
       "      <th>1</th>\n",
       "      <td>CCC</td>\n",
       "      <td>2014J</td>\n",
       "      <td>24299</td>\n",
       "      <td>Exam</td>\n",
       "      <td>1019</td>\n",
       "    </tr>\n",
       "    <tr>\n",
       "      <th>2</th>\n",
       "      <td>DDD</td>\n",
       "      <td>2013B</td>\n",
       "      <td>25340</td>\n",
       "      <td>Exam</td>\n",
       "      <td>504</td>\n",
       "    </tr>\n",
       "    <tr>\n",
       "      <th>3</th>\n",
       "      <td>DDD</td>\n",
       "      <td>2013J</td>\n",
       "      <td>25354</td>\n",
       "      <td>Exam</td>\n",
       "      <td>878</td>\n",
       "    </tr>\n",
       "    <tr>\n",
       "      <th>4</th>\n",
       "      <td>DDD</td>\n",
       "      <td>2014B</td>\n",
       "      <td>25361</td>\n",
       "      <td>Exam</td>\n",
       "      <td>485</td>\n",
       "    </tr>\n",
       "    <tr>\n",
       "      <th>5</th>\n",
       "      <td>DDD</td>\n",
       "      <td>2014J</td>\n",
       "      <td>25368</td>\n",
       "      <td>Exam</td>\n",
       "      <td>842</td>\n",
       "    </tr>\n",
       "  </tbody>\n",
       "</table>\n",
       "</div>"
      ],
      "text/plain": [
       "  code_module code_presentation  id_assessment assessment_type  passed\n",
       "0         CCC             2014B          24290            Exam     664\n",
       "1         CCC             2014J          24299            Exam    1019\n",
       "2         DDD             2013B          25340            Exam     504\n",
       "3         DDD             2013J          25354            Exam     878\n",
       "4         DDD             2014B          25361            Exam     485\n",
       "5         DDD             2014J          25368            Exam     842"
      ]
     },
     "execution_count": 12,
     "metadata": {},
     "output_type": "execute_result"
    }
   ],
   "source": [
    "# посчитаем количество успешных экзаменов для каждого курса и экзамена\n",
    "passed_per_exam = assessments_exam_merge[assessments_exam_merge['score'] >= 40].groupby(['code_module', 'code_presentation', 'id_assessment', 'assessment_type']).size().reset_index(name='passed')\n",
    "passed_per_exam"
   ]
  },
  {
   "cell_type": "code",
   "execution_count": 13,
   "metadata": {},
   "outputs": [
    {
     "data": {
      "text/html": [
       "<div>\n",
       "<style scoped>\n",
       "    .dataframe tbody tr th:only-of-type {\n",
       "        vertical-align: middle;\n",
       "    }\n",
       "\n",
       "    .dataframe tbody tr th {\n",
       "        vertical-align: top;\n",
       "    }\n",
       "\n",
       "    .dataframe thead th {\n",
       "        text-align: right;\n",
       "    }\n",
       "</style>\n",
       "<table border=\"1\" class=\"dataframe\">\n",
       "  <thead>\n",
       "    <tr style=\"text-align: right;\">\n",
       "      <th></th>\n",
       "      <th>code_module</th>\n",
       "      <th>code_presentation</th>\n",
       "      <th>id_assessment</th>\n",
       "      <th>assessment_type</th>\n",
       "      <th>attempts</th>\n",
       "      <th>passed</th>\n",
       "      <th>completion_rate</th>\n",
       "    </tr>\n",
       "  </thead>\n",
       "  <tbody>\n",
       "    <tr>\n",
       "      <th>0</th>\n",
       "      <td>CCC</td>\n",
       "      <td>2014B</td>\n",
       "      <td>24290</td>\n",
       "      <td>Exam</td>\n",
       "      <td>747</td>\n",
       "      <td>664</td>\n",
       "      <td>0.888889</td>\n",
       "    </tr>\n",
       "    <tr>\n",
       "      <th>1</th>\n",
       "      <td>CCC</td>\n",
       "      <td>2014J</td>\n",
       "      <td>24299</td>\n",
       "      <td>Exam</td>\n",
       "      <td>1168</td>\n",
       "      <td>1019</td>\n",
       "      <td>0.872432</td>\n",
       "    </tr>\n",
       "    <tr>\n",
       "      <th>2</th>\n",
       "      <td>DDD</td>\n",
       "      <td>2013B</td>\n",
       "      <td>25340</td>\n",
       "      <td>Exam</td>\n",
       "      <td>602</td>\n",
       "      <td>504</td>\n",
       "      <td>0.837209</td>\n",
       "    </tr>\n",
       "    <tr>\n",
       "      <th>3</th>\n",
       "      <td>DDD</td>\n",
       "      <td>2013J</td>\n",
       "      <td>25354</td>\n",
       "      <td>Exam</td>\n",
       "      <td>968</td>\n",
       "      <td>878</td>\n",
       "      <td>0.907025</td>\n",
       "    </tr>\n",
       "    <tr>\n",
       "      <th>4</th>\n",
       "      <td>DDD</td>\n",
       "      <td>2014B</td>\n",
       "      <td>25361</td>\n",
       "      <td>Exam</td>\n",
       "      <td>524</td>\n",
       "      <td>485</td>\n",
       "      <td>0.925573</td>\n",
       "    </tr>\n",
       "    <tr>\n",
       "      <th>5</th>\n",
       "      <td>DDD</td>\n",
       "      <td>2014J</td>\n",
       "      <td>25368</td>\n",
       "      <td>Exam</td>\n",
       "      <td>950</td>\n",
       "      <td>842</td>\n",
       "      <td>0.886316</td>\n",
       "    </tr>\n",
       "  </tbody>\n",
       "</table>\n",
       "</div>"
      ],
      "text/plain": [
       "  code_module code_presentation  id_assessment assessment_type  attempts  \\\n",
       "0         CCC             2014B          24290            Exam       747   \n",
       "1         CCC             2014J          24299            Exam      1168   \n",
       "2         DDD             2013B          25340            Exam       602   \n",
       "3         DDD             2013J          25354            Exam       968   \n",
       "4         DDD             2014B          25361            Exam       524   \n",
       "5         DDD             2014J          25368            Exam       950   \n",
       "\n",
       "   passed  completion_rate  \n",
       "0     664         0.888889  \n",
       "1    1019         0.872432  \n",
       "2     504         0.837209  \n",
       "3     878         0.907025  \n",
       "4     485         0.925573  \n",
       "5     842         0.886316  "
      ]
     },
     "execution_count": 13,
     "metadata": {},
     "output_type": "execute_result"
    }
   ],
   "source": [
    "# объединим данные и посчитаем завершаемость для каждого экзамена\n",
    "exam_completion = attempts_per_exam.merge(passed_per_exam, on=['code_module', 'code_presentation', 'id_assessment', 'assessment_type'], how='left')\n",
    "exam_completion['completion_rate'] = exam_completion['passed'] / exam_completion['attempts']\n",
    "exam_completion"
   ]
  },
  {
   "cell_type": "code",
   "execution_count": 14,
   "metadata": {},
   "outputs": [],
   "source": [
    "# найдем экзамены с максимальной и минимальной завершаемостью\n",
    "easiest_exam = exam_completion.loc[exam_completion['completion_rate'].idxmax()]\n",
    "hardest_exam = exam_completion.loc[exam_completion['completion_rate'].idxmin()]"
   ]
  },
  {
   "cell_type": "code",
   "execution_count": 15,
   "metadata": {},
   "outputs": [
    {
     "data": {
      "text/plain": [
       "code_module               DDD\n",
       "code_presentation       2014B\n",
       "id_assessment           25361\n",
       "assessment_type          Exam\n",
       "attempts                  524\n",
       "passed                    485\n",
       "completion_rate      0.925573\n",
       "Name: 4, dtype: object"
      ]
     },
     "execution_count": 15,
     "metadata": {},
     "output_type": "execute_result"
    }
   ],
   "source": [
    "easiest_exam"
   ]
  },
  {
   "cell_type": "code",
   "execution_count": 16,
   "metadata": {},
   "outputs": [
    {
     "data": {
      "text/plain": [
       "code_module               DDD\n",
       "code_presentation       2013B\n",
       "id_assessment           25340\n",
       "assessment_type          Exam\n",
       "attempts                  602\n",
       "passed                    504\n",
       "completion_rate      0.837209\n",
       "Name: 2, dtype: object"
      ]
     },
     "execution_count": 16,
     "metadata": {},
     "output_type": "execute_result"
    }
   ],
   "source": [
    "hardest_exam"
   ]
  },
  {
   "cell_type": "code",
   "execution_count": 17,
   "metadata": {},
   "outputs": [],
   "source": [
    "# Задание 3. По каждому предмету определи средний срок сдачи экзаменов \n",
    "#(под сдачей понимаем последнее успешное прохождение экзамена студентом)"
   ]
  },
  {
   "cell_type": "code",
   "execution_count": 18,
   "metadata": {},
   "outputs": [
    {
     "data": {
      "text/plain": [
       "code_module\n",
       "CCC    239.345217\n",
       "DDD    237.976006\n",
       "Name: date_submitted, dtype: float64"
      ]
     },
     "execution_count": 18,
     "metadata": {},
     "output_type": "execute_result"
    }
   ],
   "source": [
    "#определяем средний срок сдачи экзаменов (под сдачей понимаем последнее успешное прохождение экзамена студентом)\n",
    "assessments_exam_merge.query('score >= 40').groupby('code_module')['date_submitted'].mean()"
   ]
  },
  {
   "cell_type": "code",
   "execution_count": 19,
   "metadata": {},
   "outputs": [],
   "source": [
    "# Задание 4. Выяви самые популярные предметы (ТОП-3) по количеству регистраций на них.\n",
    "# А также предметы с самым большим оттоком"
   ]
  },
  {
   "cell_type": "code",
   "execution_count": 20,
   "metadata": {},
   "outputs": [
    {
     "data": {
      "text/plain": [
       "code_module\n",
       "BBB    7900\n",
       "FFF    7751\n",
       "DDD    6257\n",
       "Name: date_registration, dtype: int64"
      ]
     },
     "execution_count": 20,
     "metadata": {},
     "output_type": "execute_result"
    }
   ],
   "source": [
    "#смотрим на кол-во уникальных регистраций по курсам(TOP-3)\n",
    "popularity_registration = studentRegistration.groupby('code_module')['date_registration'].count().sort_values(ascending=False)\n",
    "popularity_registration.head(3)"
   ]
  },
  {
   "cell_type": "code",
   "execution_count": 21,
   "metadata": {},
   "outputs": [
    {
     "data": {
      "text/plain": [
       "code_module\n",
       "FFF    2380\n",
       "BBB    2377\n",
       "DDD    2235\n",
       "Name: date_unregistration, dtype: int64"
      ]
     },
     "execution_count": 21,
     "metadata": {},
     "output_type": "execute_result"
    }
   ],
   "source": [
    "#смотрим на кол-во оттока по курсам(TOP-3)\n",
    "popularity_unregistration = studentRegistration.groupby('code_module')['date_unregistration'].count().sort_values(ascending=False)\n",
    "popularity_unregistration.head(3)"
   ]
  },
  {
   "cell_type": "code",
   "execution_count": 22,
   "metadata": {},
   "outputs": [],
   "source": [
    "#Задание 5. Используя pandas, в период с начала 2013 по конец 2014 выяви семестр с самой низкой завершаемостью\n",
    "#курсов и самыми долгими средними сроками сдачи курсов."
   ]
  },
  {
   "cell_type": "code",
   "execution_count": 23,
   "metadata": {},
   "outputs": [
    {
     "data": {
      "text/html": [
       "<div>\n",
       "<style scoped>\n",
       "    .dataframe tbody tr th:only-of-type {\n",
       "        vertical-align: middle;\n",
       "    }\n",
       "\n",
       "    .dataframe tbody tr th {\n",
       "        vertical-align: top;\n",
       "    }\n",
       "\n",
       "    .dataframe thead th {\n",
       "        text-align: right;\n",
       "    }\n",
       "</style>\n",
       "<table border=\"1\" class=\"dataframe\">\n",
       "  <thead>\n",
       "    <tr style=\"text-align: right;\">\n",
       "      <th></th>\n",
       "      <th>code_module</th>\n",
       "      <th>code_presentation</th>\n",
       "      <th>id_assessment</th>\n",
       "      <th>assessment_type</th>\n",
       "      <th>attempts</th>\n",
       "      <th>passed</th>\n",
       "      <th>completion_rate</th>\n",
       "    </tr>\n",
       "  </thead>\n",
       "  <tbody>\n",
       "    <tr>\n",
       "      <th>0</th>\n",
       "      <td>CCC</td>\n",
       "      <td>2014B</td>\n",
       "      <td>24290</td>\n",
       "      <td>Exam</td>\n",
       "      <td>747</td>\n",
       "      <td>664</td>\n",
       "      <td>0.888889</td>\n",
       "    </tr>\n",
       "    <tr>\n",
       "      <th>1</th>\n",
       "      <td>CCC</td>\n",
       "      <td>2014J</td>\n",
       "      <td>24299</td>\n",
       "      <td>Exam</td>\n",
       "      <td>1168</td>\n",
       "      <td>1019</td>\n",
       "      <td>0.872432</td>\n",
       "    </tr>\n",
       "    <tr>\n",
       "      <th>2</th>\n",
       "      <td>DDD</td>\n",
       "      <td>2013B</td>\n",
       "      <td>25340</td>\n",
       "      <td>Exam</td>\n",
       "      <td>602</td>\n",
       "      <td>504</td>\n",
       "      <td>0.837209</td>\n",
       "    </tr>\n",
       "    <tr>\n",
       "      <th>3</th>\n",
       "      <td>DDD</td>\n",
       "      <td>2013J</td>\n",
       "      <td>25354</td>\n",
       "      <td>Exam</td>\n",
       "      <td>968</td>\n",
       "      <td>878</td>\n",
       "      <td>0.907025</td>\n",
       "    </tr>\n",
       "    <tr>\n",
       "      <th>4</th>\n",
       "      <td>DDD</td>\n",
       "      <td>2014B</td>\n",
       "      <td>25361</td>\n",
       "      <td>Exam</td>\n",
       "      <td>524</td>\n",
       "      <td>485</td>\n",
       "      <td>0.925573</td>\n",
       "    </tr>\n",
       "    <tr>\n",
       "      <th>5</th>\n",
       "      <td>DDD</td>\n",
       "      <td>2014J</td>\n",
       "      <td>25368</td>\n",
       "      <td>Exam</td>\n",
       "      <td>950</td>\n",
       "      <td>842</td>\n",
       "      <td>0.886316</td>\n",
       "    </tr>\n",
       "  </tbody>\n",
       "</table>\n",
       "</div>"
      ],
      "text/plain": [
       "  code_module code_presentation  id_assessment assessment_type  attempts  \\\n",
       "0         CCC             2014B          24290            Exam       747   \n",
       "1         CCC             2014J          24299            Exam      1168   \n",
       "2         DDD             2013B          25340            Exam       602   \n",
       "3         DDD             2013J          25354            Exam       968   \n",
       "4         DDD             2014B          25361            Exam       524   \n",
       "5         DDD             2014J          25368            Exam       950   \n",
       "\n",
       "   passed  completion_rate  \n",
       "0     664         0.888889  \n",
       "1    1019         0.872432  \n",
       "2     504         0.837209  \n",
       "3     878         0.907025  \n",
       "4     485         0.925573  \n",
       "5     842         0.886316  "
      ]
     },
     "execution_count": 23,
     "metadata": {},
     "output_type": "execute_result"
    }
   ],
   "source": [
    "#Для нахождения семестра с самой низкой завершаемостью, можно использовать ранее составленную таблицу exam_completion\n",
    "exam_completion"
   ]
  },
  {
   "cell_type": "code",
   "execution_count": 24,
   "metadata": {},
   "outputs": [
    {
     "data": {
      "text/plain": [
       "'2013B'"
      ]
     },
     "execution_count": 24,
     "metadata": {},
     "output_type": "execute_result"
    }
   ],
   "source": [
    "#Фильтруем по completion_rate и смотрим на интересующий нас code_presentation\n",
    "exam_completion.sort_values('completion_rate')['code_presentation'].iloc[0]"
   ]
  },
  {
   "cell_type": "code",
   "execution_count": 25,
   "metadata": {},
   "outputs": [
    {
     "data": {
      "text/plain": [
       "239.34521687462865"
      ]
     },
     "execution_count": 25,
     "metadata": {},
     "output_type": "execute_result"
    }
   ],
   "source": [
    "#определяем самцый долгий средний срок сдачи экзаменов (под сдачей понимаем последнее успешное прохождение экзамена студентом)\n",
    "assessments_exam_merge.query('score >= 40').groupby('code_module')['date_submitted'].mean().sort_values(ascending=False).iloc[0]"
   ]
  },
  {
   "cell_type": "code",
   "execution_count": 26,
   "metadata": {},
   "outputs": [],
   "source": [
    "# Задание 6. Часто для качественного анализа аудитории использую подходы,\n",
    "# основанные на сегментации. Используя python, построй адаптированные RFM-кластеры студентов,\n",
    "# чтобы качественно оценить свою аудиторию. В адаптированной кластеризации можешь выбрать следующие метрики:\n",
    "# R - среднее время сдачи одного экзамена, F - завершаемость курсов, M - среднее количество баллов, получаемое за экзамен. \n",
    "# Подробно опиши, как ты создавал кластеры. \n",
    "# Для каждого RFM-сегмента построй границы метрик recency, frequency и monetary для интерпретации этих кластеров."
   ]
  },
  {
   "cell_type": "code",
   "execution_count": 27,
   "metadata": {},
   "outputs": [],
   "source": [
    "assessments_exam_merge_rfm = assessments_exam_merge"
   ]
  },
  {
   "cell_type": "code",
   "execution_count": 28,
   "metadata": {},
   "outputs": [],
   "source": [
    "assessments_exam_merge_rfm['Recency'] = assessments_exam_merge_rfm.groupby('code_module')['date_submitted'].apply(lambda x: (x.fillna(x.mean()) - x.mean()))\n",
    "assessments_exam_merge_rfm['Frequency'] = np.where(assessments_exam_merge_rfm['score'] >= 40, 1, 0)\n",
    "assessments_exam_merge_rfm['Monetary'] = assessments_exam_merge_rfm.groupby('code_module')['score'].apply(lambda x: (x.fillna(x.mean()) - x.mean()))"
   ]
  },
  {
   "cell_type": "code",
   "execution_count": 29,
   "metadata": {},
   "outputs": [
    {
     "data": {
      "text/plain": [
       "{'Recency': {0.2: -6.901445466491452,\n",
       "  0.4: -0.9014454664914524,\n",
       "  0.6: 4.098554533508548,\n",
       "  0.8: 4.591122715404708}}"
      ]
     },
     "execution_count": 29,
     "metadata": {},
     "output_type": "execute_result"
    }
   ],
   "source": [
    "quintiles = assessments_exam_merge_rfm[['Recency']].quantile([.2, .4, .6, .8]).to_dict()\n",
    "quintiles"
   ]
  },
  {
   "cell_type": "code",
   "execution_count": 30,
   "metadata": {},
   "outputs": [],
   "source": [
    "score_ranges = {\n",
    "    range(0, 21): 1,\n",
    "    range(21, 40): 2,\n",
    "    range(40, 51): 3,\n",
    "    range(51, 71): 4,\n",
    "    range(71, 101): 5\n",
    "}\n",
    "\n",
    "assessments_exam_merge_rfm['M'] = assessments_exam_merge_rfm['score'].apply(\n",
    "    lambda x: next((value for key, value in score_ranges.items() if x in key), None)\n",
    ")"
   ]
  },
  {
   "cell_type": "code",
   "execution_count": 31,
   "metadata": {},
   "outputs": [],
   "source": [
    "def r_score(x, c):\n",
    "    if x <= quintiles[c][.2]:\n",
    "        return 1\n",
    "    elif x <= quintiles[c][.4]:\n",
    "        return 2\n",
    "    elif x <= quintiles[c][.6]:\n",
    "        return 3\n",
    "    elif x <= quintiles[c][.8]:\n",
    "        return 4\n",
    "    else:\n",
    "        return 5"
   ]
  },
  {
   "cell_type": "code",
   "execution_count": 32,
   "metadata": {},
   "outputs": [],
   "source": [
    "assessments_exam_merge_rfm['R'] = assessments_exam_merge_rfm['Recency'].apply(lambda x: r_score(x, 'Recency'))\n",
    "assessments_exam_merge_rfm['F'] = assessments_exam_merge_rfm['Frequency']"
   ]
  },
  {
   "cell_type": "code",
   "execution_count": 33,
   "metadata": {},
   "outputs": [
    {
     "data": {
      "text/plain": [
       "238.4835652349264"
      ]
     },
     "execution_count": 33,
     "metadata": {},
     "output_type": "execute_result"
    }
   ],
   "source": [
    "assessments_exam_merge_rfm['RFM Score'] = assessments_exam_merge_rfm['R'].map(str) + assessments_exam_merge_rfm['F'].map(str) + assessments_exam_merge_rfm['M'].map(str)\n",
    "assessments_exam_merge_rfm.date_submitted.mean()"
   ]
  },
  {
   "cell_type": "code",
   "execution_count": 34,
   "metadata": {},
   "outputs": [],
   "source": [
    "segt_map = {\n",
    "    r'[1-2][4-5]': 'Отлично',\n",
    "    r'[4-5][3-4]': 'медленно и хорошо',\n",
    "    r'[1-3][1-2]': 'не сдал, возможно поторопился',\n",
    "    r'[1-3][3-4]' : 'нормально',\n",
    "    r'1[1-2]': 'слишком быстро и неправильно',\n",
    "    r'[3-5]5' : 'хорошая работа',\n",
    "    r'[4-5][1-2]' : 'медленно и неправильно'       \n",
    "}\n",
    "\n",
    "assessments_exam_merge_rfm['Segment'] = assessments_exam_merge_rfm['R'].map(str) + assessments_exam_merge_rfm['M'].map(str)\n",
    "assessments_exam_merge_rfm['Segment'] = assessments_exam_merge_rfm['Segment'].replace(segt_map, regex=True)"
   ]
  },
  {
   "cell_type": "code",
   "execution_count": 35,
   "metadata": {},
   "outputs": [
    {
     "data": {
      "image/png": "[encoded data removed]",
      "text/plain": [
       "<Figure size 432x288 with 1 Axes>"
      ]
     },
     "metadata": {
      "needs_background": "light"
     },
     "output_type": "display_data"
    }
   ],
   "source": [
    "segments_counts = assessments_exam_merge_rfm['Segment'].value_counts().sort_values(ascending=True)\n",
    "\n",
    "fig, ax = plt.subplots()\n",
    "\n",
    "bars = ax.barh(range(len(segments_counts)),\n",
    "              segments_counts,\n",
    "              color='silver')\n",
    "ax.set_frame_on(False)\n",
    "ax.tick_params(left=False,\n",
    "               bottom=False,\n",
    "               labelbottom=False)\n",
    "ax.set_yticks(range(len(segments_counts)))\n",
    "ax.set_yticklabels(segments_counts.index)\n",
    "\n",
    "for i, bar in enumerate(bars):\n",
    "        value = bar.get_width()\n",
    "        if segments_counts.index[i] in ['champions', 'loyal customers']:\n",
    "            bar.set_color('firebrick')\n",
    "        ax.text(value,\n",
    "                bar.get_y() + bar.get_height()/2,\n",
    "                '{:,} ({:}%)'.format(int(value),\n",
    "                                   int(value*100/segments_counts.sum())),\n",
    "                va='center',\n",
    "                ha='left'\n",
    "               )\n",
    "\n",
    "plt.show()"
   ]
  },
  {
   "cell_type": "markdown",
   "metadata": {},
   "source": [
    "#Подробно опиши, как ты создавал кластеры\n",
    "Оценки М я пытался изначально создавать с помощью квантилей, но в оценку 2, попадали как люди у которых за экзамен больше 40 баллов, хоть и ненамного, так и люди у которых за экзамен менее 40 баллов, что является несдачей.\n",
    "Класстеры в segt_map создавал на собственных убеждениях и внутреннем восприятии оценок, ставя себя на место людей, выбирал студента смотрел сколько получил, сколько по времени сдавал, прикидывал, что если бы у меня был такой результат, как бы я его назвал"
   ]
  },
  {
   "cell_type": "code",
   "execution_count": null,
   "metadata": {},
   "outputs": [],
   "source": []
  }
 ],
 "metadata": {
  "kernelspec": {
   "display_name": "Python 3",
   "language": "python",
   "name": "python3"
  },
  "language_info": {
   "codemirror_mode": {
    "name": "ipython",
    "version": 3
   },
   "file_extension": ".py",
   "mimetype": "text/x-python",
   "name": "python",
   "nbconvert_exporter": "python",
   "pygments_lexer": "ipython3",
   "version": "3.7.3"
  }
 },
 "nbformat": 4,
 "nbformat_minor": 4
}
