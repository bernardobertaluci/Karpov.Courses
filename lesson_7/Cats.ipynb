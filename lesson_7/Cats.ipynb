{
 "cells": [
  {
   "cell_type": "code",
   "execution_count": 1,
   "metadata": {},
   "outputs": [],
   "source": [
    "import requests\n",
    "import pandas as pd"
   ]
  },
  {
   "cell_type": "code",
   "execution_count": 2,
   "metadata": {},
   "outputs": [],
   "source": [
    "r = requests.get('https://collectionapi.metmuseum.org/public/collection/v1/search?departmentId=6&q=cat')\n",
    "cats = r.json()"
   ]
  },
  {
   "cell_type": "code",
   "execution_count": 3,
   "metadata": {},
   "outputs": [],
   "source": [
    "cat_ids = cats['objectIDs']"
   ]
  },
  {
   "cell_type": "code",
   "execution_count": 4,
   "metadata": {},
   "outputs": [
    {
     "data": {
      "text/plain": [
       "[49698, 49470, 53222]"
      ]
     },
     "execution_count": 4,
     "metadata": {},
     "output_type": "execute_result"
    }
   ],
   "source": [
    "cat_ids[:3]"
   ]
  },
  {
   "cell_type": "code",
   "execution_count": 22,
   "metadata": {},
   "outputs": [],
   "source": [
    "dfs = []\n",
    "for i in cat_ids[:1000]:\n",
    "    r_test = requests.get(f'https://collectionapi.metmuseum.org/public/collection/v1/objects/{i}')\n",
    "    obj_test = r_test.json()\n",
    "    df = pd.DataFrame.from_dict(obj_test, orient='index') \n",
    "    df = df.transpose()\n",
    "    df = df.set_index('objectID')\n",
    "    dfs.append(df)\n",
    "result_df = pd.concat(dfs)    "
   ]
  },
  {
   "cell_type": "code",
   "execution_count": 23,
   "metadata": {},
   "outputs": [
    {
     "data": {
      "text/plain": [
       "Edo period (1615–1868)                                         440\n",
       "                                                               122\n",
       "Qing dynasty (1644–1911)                                        45\n",
       "Eastern Javanese period                                         29\n",
       "Muromachi period (1392–1573)                                    29\n",
       "                                                              ... \n",
       "late Edo (1615–1868)–early Meiji (1868–1912) period              1\n",
       "late Edo (1615–1868)-early Meiji period (1868–1912)              1\n",
       "Ming dynasty (1368–1644), Jiajing mark and period (1522–66)      1\n",
       "Muromachi period (1392–1573) or Momoyama period (1573–1615)      1\n",
       "Shang dynasty–Western Zhou dynasty (1046–771 B.C.)               1\n",
       "Name: period, Length: 97, dtype: int64"
      ]
     },
     "execution_count": 23,
     "metadata": {},
     "output_type": "execute_result"
    }
   ],
   "source": [
    "result_df.period.value_counts()"
   ]
  },
  {
   "cell_type": "code",
   "execution_count": null,
   "metadata": {},
   "outputs": [],
   "source": []
  }
 ],
 "metadata": {
  "kernelspec": {
   "display_name": "Python 3",
   "language": "python",
   "name": "python3"
  },
  "language_info": {
   "codemirror_mode": {
    "name": "ipython",
    "version": 3
   },
   "file_extension": ".py",
   "mimetype": "text/x-python",
   "name": "python",
   "nbconvert_exporter": "python",
   "pygments_lexer": "ipython3",
   "version": "3.7.3"
  }
 },
 "nbformat": 4,
 "nbformat_minor": 4
}
