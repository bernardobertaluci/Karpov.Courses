{
 "cells": [
  {
   "cell_type": "code",
   "execution_count": 61,
   "id": "338b344a",
   "metadata": {},
   "outputs": [],
   "source": [
    "import pandas as pd"
   ]
  },
  {
   "cell_type": "code",
   "execution_count": 256,
   "id": "c6f45fdc",
   "metadata": {},
   "outputs": [],
   "source": [
    "df = pd.read_csv('KC_case_data .csv')"
   ]
  },
  {
   "cell_type": "code",
   "execution_count": 143,
   "id": "d16d3eed",
   "metadata": {},
   "outputs": [
    {
     "data": {
      "text/html": [
       "<div>\n",
       "<style scoped>\n",
       "    .dataframe tbody tr th:only-of-type {\n",
       "        vertical-align: middle;\n",
       "    }\n",
       "\n",
       "    .dataframe tbody tr th {\n",
       "        vertical-align: top;\n",
       "    }\n",
       "\n",
       "    .dataframe thead th {\n",
       "        text-align: right;\n",
       "    }\n",
       "</style>\n",
       "<table border=\"1\" class=\"dataframe\">\n",
       "  <thead>\n",
       "    <tr style=\"text-align: right;\">\n",
       "      <th></th>\n",
       "      <th>date</th>\n",
       "      <th>event</th>\n",
       "      <th>purchase_sum</th>\n",
       "      <th>os_name</th>\n",
       "      <th>device_id</th>\n",
       "      <th>gender</th>\n",
       "      <th>city</th>\n",
       "      <th>utm_source</th>\n",
       "    </tr>\n",
       "  </thead>\n",
       "  <tbody>\n",
       "    <tr>\n",
       "      <th>0</th>\n",
       "      <td>2020-01-01</td>\n",
       "      <td>app_start</td>\n",
       "      <td>NaN</td>\n",
       "      <td>android</td>\n",
       "      <td>669460</td>\n",
       "      <td>female</td>\n",
       "      <td>Moscow</td>\n",
       "      <td>-</td>\n",
       "    </tr>\n",
       "    <tr>\n",
       "      <th>1</th>\n",
       "      <td>2020-01-01</td>\n",
       "      <td>app_start</td>\n",
       "      <td>NaN</td>\n",
       "      <td>ios</td>\n",
       "      <td>833621</td>\n",
       "      <td>male</td>\n",
       "      <td>Moscow</td>\n",
       "      <td>vk_ads</td>\n",
       "    </tr>\n",
       "    <tr>\n",
       "      <th>2</th>\n",
       "      <td>2020-01-01</td>\n",
       "      <td>app_start</td>\n",
       "      <td>NaN</td>\n",
       "      <td>android</td>\n",
       "      <td>1579237</td>\n",
       "      <td>male</td>\n",
       "      <td>Saint-Petersburg</td>\n",
       "      <td>referal</td>\n",
       "    </tr>\n",
       "    <tr>\n",
       "      <th>3</th>\n",
       "      <td>2020-01-01</td>\n",
       "      <td>app_start</td>\n",
       "      <td>NaN</td>\n",
       "      <td>android</td>\n",
       "      <td>1737182</td>\n",
       "      <td>female</td>\n",
       "      <td>Moscow</td>\n",
       "      <td>facebook_ads</td>\n",
       "    </tr>\n",
       "    <tr>\n",
       "      <th>4</th>\n",
       "      <td>2020-01-01</td>\n",
       "      <td>app_start</td>\n",
       "      <td>NaN</td>\n",
       "      <td>ios</td>\n",
       "      <td>4029024</td>\n",
       "      <td>female</td>\n",
       "      <td>Moscow</td>\n",
       "      <td>facebook_ads</td>\n",
       "    </tr>\n",
       "  </tbody>\n",
       "</table>\n",
       "</div>"
      ],
      "text/plain": [
       "         date      event  purchase_sum  os_name  device_id  gender  \\\n",
       "0  2020-01-01  app_start           NaN  android     669460  female   \n",
       "1  2020-01-01  app_start           NaN      ios     833621    male   \n",
       "2  2020-01-01  app_start           NaN  android    1579237    male   \n",
       "3  2020-01-01  app_start           NaN  android    1737182  female   \n",
       "4  2020-01-01  app_start           NaN      ios    4029024  female   \n",
       "\n",
       "               city    utm_source  \n",
       "0            Moscow             -  \n",
       "1            Moscow        vk_ads  \n",
       "2  Saint-Petersburg       referal  \n",
       "3            Moscow  facebook_ads  \n",
       "4            Moscow  facebook_ads  "
      ]
     },
     "execution_count": 143,
     "metadata": {},
     "output_type": "execute_result"
    }
   ],
   "source": [
    "df.head()"
   ]
  },
  {
   "cell_type": "code",
   "execution_count": 144,
   "id": "cddc43a2",
   "metadata": {},
   "outputs": [],
   "source": [
    "df['date'] = pd.to_datetime(df['date'])"
   ]
  },
  {
   "cell_type": "code",
   "execution_count": 145,
   "id": "eecd0e81",
   "metadata": {},
   "outputs": [
    {
     "name": "stdout",
     "output_type": "stream",
     "text": [
      "<class 'pandas.core.frame.DataFrame'>\n",
      "RangeIndex: 2747968 entries, 0 to 2747967\n",
      "Data columns (total 8 columns):\n",
      " #   Column        Dtype         \n",
      "---  ------        -----         \n",
      " 0   date          datetime64[ns]\n",
      " 1   event         object        \n",
      " 2   purchase_sum  float64       \n",
      " 3   os_name       object        \n",
      " 4   device_id     int64         \n",
      " 5   gender        object        \n",
      " 6   city          object        \n",
      " 7   utm_source    object        \n",
      "dtypes: datetime64[ns](1), float64(1), int64(1), object(5)\n",
      "memory usage: 167.7+ MB\n"
     ]
    }
   ],
   "source": [
    "df.info()"
   ]
  },
  {
   "cell_type": "code",
   "execution_count": 146,
   "id": "89adbcc6",
   "metadata": {},
   "outputs": [],
   "source": [
    "mau = df.groupby(pd.Grouper(key='date', freq='M'))['device_id'].nunique()"
   ]
  },
  {
   "cell_type": "code",
   "execution_count": 147,
   "id": "cce0b01d",
   "metadata": {},
   "outputs": [
    {
     "data": {
      "text/plain": [
       "date\n",
       "2020-01-31    99161\n",
       "2020-02-29    75032\n",
       "2020-03-31    74623\n",
       "Freq: M, Name: device_id, dtype: int64"
      ]
     },
     "execution_count": 147,
     "metadata": {},
     "output_type": "execute_result"
    }
   ],
   "source": [
    "mau"
   ]
  },
  {
   "cell_type": "code",
   "execution_count": 187,
   "id": "ea67d36c",
   "metadata": {},
   "outputs": [],
   "source": [
    "app_install = df[df.event == 'app_install'].groupby('device_id')[\"date\"]"
   ]
  },
  {
   "cell_type": "code",
   "execution_count": 188,
   "id": "b793c780",
   "metadata": {},
   "outputs": [],
   "source": [
    "purchase = df[df.event == 'purchase'].groupby('device_id')[\"date\"]"
   ]
  },
  {
   "cell_type": "code",
   "execution_count": 193,
   "id": "610ca214",
   "metadata": {},
   "outputs": [
    {
     "ename": "AttributeError",
     "evalue": "'DataFrameGroupBy' object has no attribute 'join'",
     "output_type": "error",
     "traceback": [
      "\u001b[1;31m---------------------------------------------------------------------------\u001b[0m",
      "\u001b[1;31mAttributeError\u001b[0m                            Traceback (most recent call last)",
      "\u001b[1;32m~\\AppData\\Local\\Temp\\ipykernel_9248\\3398803202.py\u001b[0m in \u001b[0;36m<module>\u001b[1;34m\u001b[0m\n\u001b[0;32m      1\u001b[0m \u001b[0mapp_install\u001b[0m \u001b[1;33m=\u001b[0m \u001b[0mdf\u001b[0m\u001b[1;33m[\u001b[0m\u001b[0mdf\u001b[0m\u001b[1;33m[\u001b[0m\u001b[1;34m'event'\u001b[0m\u001b[1;33m]\u001b[0m \u001b[1;33m==\u001b[0m \u001b[1;34m'app_install'\u001b[0m\u001b[1;33m]\u001b[0m\u001b[1;33m.\u001b[0m\u001b[0mgroupby\u001b[0m\u001b[1;33m(\u001b[0m\u001b[1;34m'device_id'\u001b[0m\u001b[1;33m,\u001b[0m\u001b[0mas_index\u001b[0m\u001b[1;33m=\u001b[0m\u001b[1;32mFalse\u001b[0m\u001b[1;33m)\u001b[0m\u001b[1;33m[\u001b[0m\u001b[1;34m'date'\u001b[0m\u001b[1;33m]\u001b[0m\u001b[1;33m\u001b[0m\u001b[1;33m\u001b[0m\u001b[0m\n\u001b[0;32m      2\u001b[0m \u001b[0mpurchase\u001b[0m \u001b[1;33m=\u001b[0m \u001b[0mdf\u001b[0m\u001b[1;33m[\u001b[0m\u001b[0mdf\u001b[0m\u001b[1;33m[\u001b[0m\u001b[1;34m'event'\u001b[0m\u001b[1;33m]\u001b[0m \u001b[1;33m==\u001b[0m \u001b[1;34m'purchase'\u001b[0m\u001b[1;33m]\u001b[0m\u001b[1;33m.\u001b[0m\u001b[0mgroupby\u001b[0m\u001b[1;33m(\u001b[0m\u001b[1;34m'device_id'\u001b[0m\u001b[1;33m,\u001b[0m\u001b[0mas_index\u001b[0m\u001b[1;33m=\u001b[0m\u001b[1;32mFalse\u001b[0m\u001b[1;33m)\u001b[0m\u001b[1;33m[\u001b[0m\u001b[1;34m'date'\u001b[0m\u001b[1;33m]\u001b[0m\u001b[1;33m\u001b[0m\u001b[1;33m\u001b[0m\u001b[0m\n\u001b[1;32m----> 3\u001b[1;33m \u001b[0mcr\u001b[0m \u001b[1;33m=\u001b[0m \u001b[0mapp_install\u001b[0m\u001b[1;33m.\u001b[0m\u001b[0mjoin\u001b[0m\u001b[1;33m(\u001b[0m\u001b[0mpurchase\u001b[0m\u001b[1;33m,\u001b[0m \u001b[0mlsuffix\u001b[0m\u001b[1;33m=\u001b[0m\u001b[1;34m'_install'\u001b[0m\u001b[1;33m,\u001b[0m \u001b[0mrsuffix\u001b[0m\u001b[1;33m=\u001b[0m\u001b[1;34m'_purchase'\u001b[0m\u001b[1;33m)\u001b[0m\u001b[1;33m\u001b[0m\u001b[1;33m\u001b[0m\u001b[0m\n\u001b[0m\u001b[0;32m      4\u001b[0m \u001b[0mcr\u001b[0m\u001b[1;33m[\u001b[0m\u001b[1;34m'cr'\u001b[0m\u001b[1;33m]\u001b[0m \u001b[1;33m=\u001b[0m \u001b[1;33m(\u001b[0m\u001b[0mcr\u001b[0m\u001b[1;33m[\u001b[0m\u001b[1;34m'date_purchase'\u001b[0m\u001b[1;33m]\u001b[0m \u001b[1;33m-\u001b[0m \u001b[0mcr\u001b[0m\u001b[1;33m[\u001b[0m\u001b[1;34m'date_install'\u001b[0m\u001b[1;33m]\u001b[0m\u001b[1;33m)\u001b[0m \u001b[1;33m<\u001b[0m \u001b[0mpd\u001b[0m\u001b[1;33m.\u001b[0m\u001b[0mTimedelta\u001b[0m\u001b[1;33m(\u001b[0m\u001b[0mdays\u001b[0m\u001b[1;33m=\u001b[0m\u001b[1;36m7\u001b[0m\u001b[1;33m)\u001b[0m\u001b[1;33m\u001b[0m\u001b[1;33m\u001b[0m\u001b[0m\n",
      "\u001b[1;32mC:\\ProgramData\\Anaconda3\\lib\\site-packages\\pandas\\core\\groupby\\groupby.py\u001b[0m in \u001b[0;36m__getattr__\u001b[1;34m(self, attr)\u001b[0m\n\u001b[0;32m    902\u001b[0m             \u001b[1;32mreturn\u001b[0m \u001b[0mself\u001b[0m\u001b[1;33m[\u001b[0m\u001b[0mattr\u001b[0m\u001b[1;33m]\u001b[0m\u001b[1;33m\u001b[0m\u001b[1;33m\u001b[0m\u001b[0m\n\u001b[0;32m    903\u001b[0m \u001b[1;33m\u001b[0m\u001b[0m\n\u001b[1;32m--> 904\u001b[1;33m         raise AttributeError(\n\u001b[0m\u001b[0;32m    905\u001b[0m             \u001b[1;34mf\"'{type(self).__name__}' object has no attribute '{attr}'\"\u001b[0m\u001b[1;33m\u001b[0m\u001b[1;33m\u001b[0m\u001b[0m\n\u001b[0;32m    906\u001b[0m         )\n",
      "\u001b[1;31mAttributeError\u001b[0m: 'DataFrameGroupBy' object has no attribute 'join'"
     ]
    }
   ],
   "source": [
    "app_install = df[df['event'] == 'app_install'].groupby('device_id',as_index=False)['date']\n",
    "purchase = df[df['event'] == 'purchase'].groupby('device_id',as_index=False)['date']\n",
    "cr = app_install.join(purchase, lsuffix='_install', rsuffix='_purchase')\n",
    "cr['cr'] = (cr['date_purchase'] - cr['date_install']) < pd.Timedelta(days=7)"
   ]
  },
  {
   "cell_type": "code",
   "execution_count": 172,
   "id": "05cf4417",
   "metadata": {},
   "outputs": [
    {
     "data": {
      "text/plain": [
       "0    NaN\n",
       "1    NaN\n",
       "2    NaN\n",
       "3    NaN\n",
       "4    NaN\n",
       "      ..\n",
       "86   NaN\n",
       "87   NaN\n",
       "88   NaN\n",
       "89   NaN\n",
       "90   NaN\n",
       "Name: event, Length: 91, dtype: float64"
      ]
     },
     "execution_count": 172,
     "metadata": {},
     "output_type": "execute_result"
    }
   ],
   "source": [
    "purchase.event / app_install.event"
   ]
  },
  {
   "cell_type": "code",
   "execution_count": 124,
   "id": "281360e9",
   "metadata": {},
   "outputs": [],
   "source": [
    "df['purchase_date'] = df[df['event'] == 'purchase']['date']"
   ]
  },
  {
   "cell_type": "code",
   "execution_count": 133,
   "id": "20c7f23b",
   "metadata": {},
   "outputs": [
    {
     "data": {
      "text/html": [
       "<div>\n",
       "<style scoped>\n",
       "    .dataframe tbody tr th:only-of-type {\n",
       "        vertical-align: middle;\n",
       "    }\n",
       "\n",
       "    .dataframe tbody tr th {\n",
       "        vertical-align: top;\n",
       "    }\n",
       "\n",
       "    .dataframe thead th {\n",
       "        text-align: right;\n",
       "    }\n",
       "</style>\n",
       "<table border=\"1\" class=\"dataframe\">\n",
       "  <thead>\n",
       "    <tr style=\"text-align: right;\">\n",
       "      <th></th>\n",
       "      <th>date</th>\n",
       "      <th>event</th>\n",
       "      <th>purchase_sum</th>\n",
       "      <th>os_name</th>\n",
       "      <th>device_id</th>\n",
       "      <th>gender</th>\n",
       "      <th>city</th>\n",
       "      <th>utm_source</th>\n",
       "      <th>install_date</th>\n",
       "      <th>purchase_date</th>\n",
       "    </tr>\n",
       "  </thead>\n",
       "  <tbody>\n",
       "    <tr>\n",
       "      <th>0</th>\n",
       "      <td>2020-01-01</td>\n",
       "      <td>app_start</td>\n",
       "      <td>NaN</td>\n",
       "      <td>android</td>\n",
       "      <td>669460</td>\n",
       "      <td>female</td>\n",
       "      <td>Moscow</td>\n",
       "      <td>-</td>\n",
       "      <td>NaT</td>\n",
       "      <td>NaT</td>\n",
       "    </tr>\n",
       "    <tr>\n",
       "      <th>1</th>\n",
       "      <td>2020-01-01</td>\n",
       "      <td>app_start</td>\n",
       "      <td>NaN</td>\n",
       "      <td>ios</td>\n",
       "      <td>833621</td>\n",
       "      <td>male</td>\n",
       "      <td>Moscow</td>\n",
       "      <td>vk_ads</td>\n",
       "      <td>NaT</td>\n",
       "      <td>NaT</td>\n",
       "    </tr>\n",
       "    <tr>\n",
       "      <th>2</th>\n",
       "      <td>2020-01-01</td>\n",
       "      <td>app_start</td>\n",
       "      <td>NaN</td>\n",
       "      <td>android</td>\n",
       "      <td>1579237</td>\n",
       "      <td>male</td>\n",
       "      <td>Saint-Petersburg</td>\n",
       "      <td>referal</td>\n",
       "      <td>NaT</td>\n",
       "      <td>NaT</td>\n",
       "    </tr>\n",
       "    <tr>\n",
       "      <th>3</th>\n",
       "      <td>2020-01-01</td>\n",
       "      <td>app_start</td>\n",
       "      <td>NaN</td>\n",
       "      <td>android</td>\n",
       "      <td>1737182</td>\n",
       "      <td>female</td>\n",
       "      <td>Moscow</td>\n",
       "      <td>facebook_ads</td>\n",
       "      <td>NaT</td>\n",
       "      <td>NaT</td>\n",
       "    </tr>\n",
       "    <tr>\n",
       "      <th>4</th>\n",
       "      <td>2020-01-01</td>\n",
       "      <td>app_start</td>\n",
       "      <td>NaN</td>\n",
       "      <td>ios</td>\n",
       "      <td>4029024</td>\n",
       "      <td>female</td>\n",
       "      <td>Moscow</td>\n",
       "      <td>facebook_ads</td>\n",
       "      <td>NaT</td>\n",
       "      <td>NaT</td>\n",
       "    </tr>\n",
       "    <tr>\n",
       "      <th>...</th>\n",
       "      <td>...</td>\n",
       "      <td>...</td>\n",
       "      <td>...</td>\n",
       "      <td>...</td>\n",
       "      <td>...</td>\n",
       "      <td>...</td>\n",
       "      <td>...</td>\n",
       "      <td>...</td>\n",
       "      <td>...</td>\n",
       "      <td>...</td>\n",
       "    </tr>\n",
       "    <tr>\n",
       "      <th>2747963</th>\n",
       "      <td>2020-03-31</td>\n",
       "      <td>register</td>\n",
       "      <td>NaN</td>\n",
       "      <td>android</td>\n",
       "      <td>2984778</td>\n",
       "      <td>male</td>\n",
       "      <td>Saint-Petersburg</td>\n",
       "      <td>facebook_ads</td>\n",
       "      <td>NaT</td>\n",
       "      <td>NaT</td>\n",
       "    </tr>\n",
       "    <tr>\n",
       "      <th>2747964</th>\n",
       "      <td>2020-03-31</td>\n",
       "      <td>register</td>\n",
       "      <td>NaN</td>\n",
       "      <td>ios</td>\n",
       "      <td>27301864</td>\n",
       "      <td>male</td>\n",
       "      <td>Moscow</td>\n",
       "      <td>-</td>\n",
       "      <td>NaT</td>\n",
       "      <td>NaT</td>\n",
       "    </tr>\n",
       "    <tr>\n",
       "      <th>2747965</th>\n",
       "      <td>2020-03-31</td>\n",
       "      <td>register</td>\n",
       "      <td>NaN</td>\n",
       "      <td>ios</td>\n",
       "      <td>1294285</td>\n",
       "      <td>female</td>\n",
       "      <td>Saint-Petersburg</td>\n",
       "      <td>google_ads</td>\n",
       "      <td>NaT</td>\n",
       "      <td>NaT</td>\n",
       "    </tr>\n",
       "    <tr>\n",
       "      <th>2747966</th>\n",
       "      <td>2020-03-31</td>\n",
       "      <td>register</td>\n",
       "      <td>NaN</td>\n",
       "      <td>android</td>\n",
       "      <td>3010574</td>\n",
       "      <td>female</td>\n",
       "      <td>Saint-Petersburg</td>\n",
       "      <td>google_ads</td>\n",
       "      <td>NaT</td>\n",
       "      <td>NaT</td>\n",
       "    </tr>\n",
       "    <tr>\n",
       "      <th>2747967</th>\n",
       "      <td>2020-03-31</td>\n",
       "      <td>register</td>\n",
       "      <td>NaN</td>\n",
       "      <td>android</td>\n",
       "      <td>11153353</td>\n",
       "      <td>female</td>\n",
       "      <td>Saint-Petersburg</td>\n",
       "      <td>-</td>\n",
       "      <td>NaT</td>\n",
       "      <td>NaT</td>\n",
       "    </tr>\n",
       "  </tbody>\n",
       "</table>\n",
       "<p>2747968 rows × 10 columns</p>\n",
       "</div>"
      ],
      "text/plain": [
       "              date      event  purchase_sum  os_name  device_id  gender  \\\n",
       "0       2020-01-01  app_start           NaN  android     669460  female   \n",
       "1       2020-01-01  app_start           NaN      ios     833621    male   \n",
       "2       2020-01-01  app_start           NaN  android    1579237    male   \n",
       "3       2020-01-01  app_start           NaN  android    1737182  female   \n",
       "4       2020-01-01  app_start           NaN      ios    4029024  female   \n",
       "...            ...        ...           ...      ...        ...     ...   \n",
       "2747963 2020-03-31   register           NaN  android    2984778    male   \n",
       "2747964 2020-03-31   register           NaN      ios   27301864    male   \n",
       "2747965 2020-03-31   register           NaN      ios    1294285  female   \n",
       "2747966 2020-03-31   register           NaN  android    3010574  female   \n",
       "2747967 2020-03-31   register           NaN  android   11153353  female   \n",
       "\n",
       "                     city    utm_source install_date purchase_date  \n",
       "0                  Moscow             -          NaT           NaT  \n",
       "1                  Moscow        vk_ads          NaT           NaT  \n",
       "2        Saint-Petersburg       referal          NaT           NaT  \n",
       "3                  Moscow  facebook_ads          NaT           NaT  \n",
       "4                  Moscow  facebook_ads          NaT           NaT  \n",
       "...                   ...           ...          ...           ...  \n",
       "2747963  Saint-Petersburg  facebook_ads          NaT           NaT  \n",
       "2747964            Moscow             -          NaT           NaT  \n",
       "2747965  Saint-Petersburg    google_ads          NaT           NaT  \n",
       "2747966  Saint-Petersburg    google_ads          NaT           NaT  \n",
       "2747967  Saint-Petersburg             -          NaT           NaT  \n",
       "\n",
       "[2747968 rows x 10 columns]"
      ]
     },
     "execution_count": 133,
     "metadata": {},
     "output_type": "execute_result"
    }
   ],
   "source": [
    "df"
   ]
  },
  {
   "cell_type": "code",
   "execution_count": 136,
   "id": "4a1febf4",
   "metadata": {},
   "outputs": [],
   "source": [
    "result = df.groupby('device_id').apply(lambda x: (x['purchase_date'] - x['install_date'] < pd.Timedelta(days=7)).any())"
   ]
  },
  {
   "cell_type": "code",
   "execution_count": 141,
   "id": "30475747",
   "metadata": {},
   "outputs": [
    {
     "data": {
      "text/plain": [
       "0"
      ]
     },
     "execution_count": 141,
     "metadata": {},
     "output_type": "execute_result"
    }
   ],
   "source": [
    "result.sum()"
   ]
  },
  {
   "cell_type": "code",
   "execution_count": 91,
   "id": "5dc5fff7",
   "metadata": {},
   "outputs": [
    {
     "data": {
      "text/plain": [
       "<pandas.core.groupby.generic.SeriesGroupBy object at 0x0000019C910E56D0>"
      ]
     },
     "execution_count": 91,
     "metadata": {},
     "output_type": "execute_result"
    }
   ],
   "source": [
    "df.groupby('install_date')['device_id']"
   ]
  },
  {
   "cell_type": "code",
   "execution_count": 80,
   "id": "73cb9f3e",
   "metadata": {},
   "outputs": [],
   "source": [
    "df['purchase_date'] = df[df['event'] == 'purchase']['date']"
   ]
  },
  {
   "cell_type": "code",
   "execution_count": 100,
   "id": "a0078b85",
   "metadata": {},
   "outputs": [
    {
     "data": {
      "text/plain": [
       "array([                          'NaT', '2020-01-01T00:00:00.000000000',\n",
       "       '2020-01-02T00:00:00.000000000', '2020-01-03T00:00:00.000000000',\n",
       "       '2020-01-04T00:00:00.000000000', '2020-01-05T00:00:00.000000000',\n",
       "       '2020-01-06T00:00:00.000000000', '2020-01-07T00:00:00.000000000',\n",
       "       '2020-01-08T00:00:00.000000000', '2020-01-09T00:00:00.000000000',\n",
       "       '2020-01-10T00:00:00.000000000', '2020-01-11T00:00:00.000000000',\n",
       "       '2020-01-12T00:00:00.000000000', '2020-01-13T00:00:00.000000000',\n",
       "       '2020-01-14T00:00:00.000000000', '2020-01-15T00:00:00.000000000',\n",
       "       '2020-01-16T00:00:00.000000000', '2020-01-17T00:00:00.000000000',\n",
       "       '2020-01-18T00:00:00.000000000', '2020-01-19T00:00:00.000000000',\n",
       "       '2020-01-20T00:00:00.000000000', '2020-01-21T00:00:00.000000000',\n",
       "       '2020-01-22T00:00:00.000000000', '2020-01-23T00:00:00.000000000',\n",
       "       '2020-01-24T00:00:00.000000000', '2020-01-25T00:00:00.000000000',\n",
       "       '2020-01-26T00:00:00.000000000', '2020-01-27T00:00:00.000000000',\n",
       "       '2020-01-28T00:00:00.000000000', '2020-01-29T00:00:00.000000000',\n",
       "       '2020-01-30T00:00:00.000000000', '2020-01-31T00:00:00.000000000',\n",
       "       '2020-02-01T00:00:00.000000000', '2020-02-02T00:00:00.000000000',\n",
       "       '2020-02-03T00:00:00.000000000', '2020-02-04T00:00:00.000000000',\n",
       "       '2020-02-05T00:00:00.000000000', '2020-02-06T00:00:00.000000000',\n",
       "       '2020-02-07T00:00:00.000000000', '2020-02-08T00:00:00.000000000',\n",
       "       '2020-02-09T00:00:00.000000000', '2020-02-10T00:00:00.000000000',\n",
       "       '2020-02-11T00:00:00.000000000', '2020-02-12T00:00:00.000000000',\n",
       "       '2020-02-13T00:00:00.000000000', '2020-02-14T00:00:00.000000000',\n",
       "       '2020-02-15T00:00:00.000000000', '2020-02-16T00:00:00.000000000',\n",
       "       '2020-02-17T00:00:00.000000000', '2020-02-18T00:00:00.000000000',\n",
       "       '2020-02-19T00:00:00.000000000', '2020-02-20T00:00:00.000000000',\n",
       "       '2020-02-21T00:00:00.000000000', '2020-02-22T00:00:00.000000000',\n",
       "       '2020-02-23T00:00:00.000000000', '2020-02-24T00:00:00.000000000',\n",
       "       '2020-02-25T00:00:00.000000000', '2020-02-26T00:00:00.000000000',\n",
       "       '2020-02-27T00:00:00.000000000', '2020-02-28T00:00:00.000000000',\n",
       "       '2020-02-29T00:00:00.000000000', '2020-03-01T00:00:00.000000000',\n",
       "       '2020-03-02T00:00:00.000000000', '2020-03-03T00:00:00.000000000',\n",
       "       '2020-03-04T00:00:00.000000000', '2020-03-05T00:00:00.000000000',\n",
       "       '2020-03-06T00:00:00.000000000', '2020-03-07T00:00:00.000000000',\n",
       "       '2020-03-08T00:00:00.000000000', '2020-03-09T00:00:00.000000000',\n",
       "       '2020-03-10T00:00:00.000000000', '2020-03-11T00:00:00.000000000',\n",
       "       '2020-03-12T00:00:00.000000000', '2020-03-13T00:00:00.000000000',\n",
       "       '2020-03-14T00:00:00.000000000', '2020-03-15T00:00:00.000000000',\n",
       "       '2020-03-16T00:00:00.000000000', '2020-03-17T00:00:00.000000000',\n",
       "       '2020-03-18T00:00:00.000000000', '2020-03-19T00:00:00.000000000',\n",
       "       '2020-03-20T00:00:00.000000000', '2020-03-21T00:00:00.000000000',\n",
       "       '2020-03-22T00:00:00.000000000', '2020-03-23T00:00:00.000000000',\n",
       "       '2020-03-24T00:00:00.000000000', '2020-03-25T00:00:00.000000000',\n",
       "       '2020-03-26T00:00:00.000000000', '2020-03-27T00:00:00.000000000',\n",
       "       '2020-03-28T00:00:00.000000000', '2020-03-29T00:00:00.000000000',\n",
       "       '2020-03-30T00:00:00.000000000', '2020-03-31T00:00:00.000000000'],\n",
       "      dtype='datetime64[ns]')"
      ]
     },
     "execution_count": 100,
     "metadata": {},
     "output_type": "execute_result"
    }
   ],
   "source": [
    "df['purchase_date'] = pd.to_datetime(df['purchase_date'])\n",
    "df.install_date.unique()"
   ]
  },
  {
   "cell_type": "code",
   "execution_count": 97,
   "id": "205dea12",
   "metadata": {},
   "outputs": [
    {
     "data": {
      "text/html": [
       "<div>\n",
       "<style scoped>\n",
       "    .dataframe tbody tr th:only-of-type {\n",
       "        vertical-align: middle;\n",
       "    }\n",
       "\n",
       "    .dataframe tbody tr th {\n",
       "        vertical-align: top;\n",
       "    }\n",
       "\n",
       "    .dataframe thead th {\n",
       "        text-align: right;\n",
       "    }\n",
       "</style>\n",
       "<table border=\"1\" class=\"dataframe\">\n",
       "  <thead>\n",
       "    <tr style=\"text-align: right;\">\n",
       "      <th></th>\n",
       "      <th>date</th>\n",
       "      <th>event</th>\n",
       "      <th>purchase_sum</th>\n",
       "      <th>os_name</th>\n",
       "      <th>device_id</th>\n",
       "      <th>gender</th>\n",
       "      <th>city</th>\n",
       "      <th>utm_source</th>\n",
       "      <th>install_date</th>\n",
       "      <th>purchase_date</th>\n",
       "    </tr>\n",
       "  </thead>\n",
       "  <tbody>\n",
       "  </tbody>\n",
       "</table>\n",
       "</div>"
      ],
      "text/plain": [
       "Empty DataFrame\n",
       "Columns: [date, event, purchase_sum, os_name, device_id, gender, city, utm_source, install_date, purchase_date]\n",
       "Index: []"
      ]
     },
     "execution_count": 97,
     "metadata": {},
     "output_type": "execute_result"
    }
   ],
   "source": [
    "df[df['purchase_date'] - df['install_date'] < pd.Timedelta(days=7)]"
   ]
  },
  {
   "cell_type": "code",
   "execution_count": 178,
   "id": "8dd2b84c",
   "metadata": {},
   "outputs": [
    {
     "data": {
      "text/plain": [
       "<bound method Series.sort_values of utm_source\n",
       "-                52268\n",
       "facebook_ads     25957\n",
       "google_ads       38092\n",
       "instagram_ads    31045\n",
       "referal          15924\n",
       "vk_ads           34079\n",
       "yandex-direct    40707\n",
       "Name: device_id, dtype: int64>"
      ]
     },
     "execution_count": 178,
     "metadata": {},
     "output_type": "execute_result"
    }
   ],
   "source": [
    "new_users_by_channel = df[df['event'] == 'app_start'].groupby('utm_source')['device_id'].nunique()\n",
    "new_users_by_channel.sort_values"
   ]
  },
  {
   "cell_type": "code",
   "execution_count": 226,
   "id": "15524258",
   "metadata": {},
   "outputs": [],
   "source": [
    "df['installation_date'] = df.groupby('device_id')['date'].transform(lambda x: x[x == 'app_install'].ffill())"
   ]
  },
  {
   "cell_type": "code",
   "execution_count": 237,
   "id": "ed9cd669",
   "metadata": {},
   "outputs": [],
   "source": [
    "df['purchase_date'] = df.groupby('device_id')['date'].transform(lambda x: x[x == 'purchase'].ffill())"
   ]
  },
  {
   "cell_type": "code",
   "execution_count": 243,
   "id": "255e7f0d",
   "metadata": {},
   "outputs": [],
   "source": [
    "df.date = pd.to_datetime(df.date)"
   ]
  },
  {
   "cell_type": "code",
   "execution_count": 257,
   "id": "63d893c2",
   "metadata": {},
   "outputs": [],
   "source": [
    "installations = df[df['event'] == 'app_install'].groupby('device_id')['date'].max().reset_index()\n",
    "purchases = df[df['event'] == 'purchase'].groupby('device_id')['date'].min().reset_index()"
   ]
  },
  {
   "cell_type": "code",
   "execution_count": 258,
   "id": "3d5dd404",
   "metadata": {},
   "outputs": [],
   "source": [
    "df = df.merge(installations, on='device_id', how='left', suffixes=('', '_install'))\n",
    "df = df.merge(purchases, on='device_id', how='left', suffixes=('', '_purchase'))"
   ]
  },
  {
   "cell_type": "code",
   "execution_count": 263,
   "id": "b3e06516",
   "metadata": {},
   "outputs": [
    {
     "data": {
      "text/html": [
       "<div>\n",
       "<style scoped>\n",
       "    .dataframe tbody tr th:only-of-type {\n",
       "        vertical-align: middle;\n",
       "    }\n",
       "\n",
       "    .dataframe tbody tr th {\n",
       "        vertical-align: top;\n",
       "    }\n",
       "\n",
       "    .dataframe thead th {\n",
       "        text-align: right;\n",
       "    }\n",
       "</style>\n",
       "<table border=\"1\" class=\"dataframe\">\n",
       "  <thead>\n",
       "    <tr style=\"text-align: right;\">\n",
       "      <th></th>\n",
       "      <th>date</th>\n",
       "      <th>event</th>\n",
       "      <th>purchase_sum</th>\n",
       "      <th>os_name</th>\n",
       "      <th>device_id</th>\n",
       "      <th>gender</th>\n",
       "      <th>city</th>\n",
       "      <th>utm_source</th>\n",
       "      <th>date_install</th>\n",
       "      <th>date_purchase</th>\n",
       "    </tr>\n",
       "  </thead>\n",
       "  <tbody>\n",
       "    <tr>\n",
       "      <th>2515662</th>\n",
       "      <td>2020-01-01</td>\n",
       "      <td>app_install</td>\n",
       "      <td>NaN</td>\n",
       "      <td>android</td>\n",
       "      <td>669460</td>\n",
       "      <td>female</td>\n",
       "      <td>Moscow</td>\n",
       "      <td>-</td>\n",
       "      <td>2020-01-01</td>\n",
       "      <td>2020-01-07</td>\n",
       "    </tr>\n",
       "  </tbody>\n",
       "</table>\n",
       "</div>"
      ],
      "text/plain": [
       "               date        event  purchase_sum  os_name  device_id  gender  \\\n",
       "2515662  2020-01-01  app_install           NaN  android     669460  female   \n",
       "\n",
       "           city utm_source date_install date_purchase  \n",
       "2515662  Moscow          -   2020-01-01    2020-01-07  "
      ]
     },
     "execution_count": 263,
     "metadata": {},
     "output_type": "execute_result"
    }
   ],
   "source": [
    "df.query('device_id == 669460 and event == \"app_install\"')"
   ]
  },
  {
   "cell_type": "code",
   "execution_count": 265,
   "id": "a1d73895",
   "metadata": {},
   "outputs": [],
   "source": [
    "df['time_difference'] = (pd.to_datetime(df['date_purchase']) - pd.to_datetime(df['date_install'])).dt.days"
   ]
  },
  {
   "cell_type": "code",
   "execution_count": 290,
   "id": "421e5cdd",
   "metadata": {},
   "outputs": [
    {
     "data": {
      "text/plain": [
       "date\n",
       "2020-01-01     2.113160\n",
       "2020-01-10     2.420876\n",
       "2020-03-06     2.674269\n",
       "2020-01-02     2.782443\n",
       "2020-01-03     3.573272\n",
       "                ...    \n",
       "2020-03-17    21.013921\n",
       "2020-03-02    21.353201\n",
       "2020-03-14    21.598194\n",
       "2020-03-05    21.661800\n",
       "2020-03-16    24.011111\n",
       "Name: device_id, Length: 91, dtype: float64"
      ]
     },
     "execution_count": 290,
     "metadata": {},
     "output_type": "execute_result"
    }
   ],
   "source": [
    "df_seven_days = df.loc[df.time_difference < 7]\n",
    "(df_seven_days.groupby('date')['device_id'].size() / df[df.event == 'app_install'].groupby('date')['device_id'].size()).sort_values()"
   ]
  },
  {
   "cell_type": "code",
   "execution_count": 293,
   "id": "04dcf8e9",
   "metadata": {},
   "outputs": [],
   "source": [
    "df['install_date'] = df[df['event'] == 'app_install']['date']"
   ]
  },
  {
   "cell_type": "code",
   "execution_count": 302,
   "id": "a3a2be59",
   "metadata": {},
   "outputs": [
    {
     "data": {
      "text/plain": [
       "91"
      ]
     },
     "execution_count": 302,
     "metadata": {},
     "output_type": "execute_result"
    }
   ],
   "source": [
    "df.install_date.nunique()"
   ]
  },
  {
   "cell_type": "code",
   "execution_count": 294,
   "id": "236fed6e",
   "metadata": {},
   "outputs": [],
   "source": [
    "cohort_data = df.groupby('install_date').agg({'device_id': 'nunique', 'event': lambda x: (x == 'purchase').sum()})"
   ]
  },
  {
   "cell_type": "code",
   "execution_count": 296,
   "id": "6e2a13b6",
   "metadata": {},
   "outputs": [],
   "source": [
    "cohort_data = df.groupby('install_date').agg({'device_id': 'nunique', 'event': lambda x: (x == 'purchase').sum()})"
   ]
  },
  {
   "cell_type": "code",
   "execution_count": 300,
   "id": "5059f3af",
   "metadata": {},
   "outputs": [
    {
     "data": {
      "text/plain": [
       "install_date\n",
       "2020-01-01    0\n",
       "2020-03-06    0\n",
       "2020-03-05    0\n",
       "2020-03-04    0\n",
       "2020-03-03    0\n",
       "             ..\n",
       "2020-01-27    0\n",
       "2020-01-26    0\n",
       "2020-01-25    0\n",
       "2020-01-23    0\n",
       "2020-03-31    0\n",
       "Name: event, Length: 91, dtype: int64"
      ]
     },
     "execution_count": 300,
     "metadata": {},
     "output_type": "execute_result"
    }
   ],
   "source": [
    "cohort_data.event.sort_values()"
   ]
  },
  {
   "cell_type": "code",
   "execution_count": 287,
   "id": "6ae17b8d",
   "metadata": {
    "scrolled": true
   },
   "outputs": [
    {
     "data": {
      "text/html": [
       "<div>\n",
       "<style scoped>\n",
       "    .dataframe tbody tr th:only-of-type {\n",
       "        vertical-align: middle;\n",
       "    }\n",
       "\n",
       "    .dataframe tbody tr th {\n",
       "        vertical-align: top;\n",
       "    }\n",
       "\n",
       "    .dataframe thead th {\n",
       "        text-align: right;\n",
       "    }\n",
       "</style>\n",
       "<table border=\"1\" class=\"dataframe\">\n",
       "  <thead>\n",
       "    <tr style=\"text-align: right;\">\n",
       "      <th></th>\n",
       "      <th>date</th>\n",
       "      <th>event</th>\n",
       "      <th>purchase_sum</th>\n",
       "      <th>os_name</th>\n",
       "      <th>device_id</th>\n",
       "      <th>gender</th>\n",
       "      <th>city</th>\n",
       "      <th>utm_source</th>\n",
       "      <th>date_install</th>\n",
       "      <th>date_purchase</th>\n",
       "      <th>time_difference</th>\n",
       "    </tr>\n",
       "  </thead>\n",
       "  <tbody>\n",
       "    <tr>\n",
       "      <th>2140427</th>\n",
       "      <td>2020-03-16</td>\n",
       "      <td>purchase</td>\n",
       "      <td>400.5</td>\n",
       "      <td>android</td>\n",
       "      <td>16877049</td>\n",
       "      <td>male</td>\n",
       "      <td>Moscow</td>\n",
       "      <td>facebook_ads</td>\n",
       "      <td>2020-03-16</td>\n",
       "      <td>2020-03-16</td>\n",
       "      <td>0.0</td>\n",
       "    </tr>\n",
       "    <tr>\n",
       "      <th>2140428</th>\n",
       "      <td>2020-03-16</td>\n",
       "      <td>purchase</td>\n",
       "      <td>98.5</td>\n",
       "      <td>android</td>\n",
       "      <td>20806</td>\n",
       "      <td>female</td>\n",
       "      <td>Moscow</td>\n",
       "      <td>facebook_ads</td>\n",
       "      <td>2020-01-02</td>\n",
       "      <td>2020-01-05</td>\n",
       "      <td>3.0</td>\n",
       "    </tr>\n",
       "    <tr>\n",
       "      <th>2140429</th>\n",
       "      <td>2020-03-16</td>\n",
       "      <td>purchase</td>\n",
       "      <td>636.0</td>\n",
       "      <td>ios</td>\n",
       "      <td>5493517</td>\n",
       "      <td>male</td>\n",
       "      <td>Moscow</td>\n",
       "      <td>-</td>\n",
       "      <td>2020-03-16</td>\n",
       "      <td>2020-03-16</td>\n",
       "      <td>0.0</td>\n",
       "    </tr>\n",
       "    <tr>\n",
       "      <th>2140430</th>\n",
       "      <td>2020-03-16</td>\n",
       "      <td>purchase</td>\n",
       "      <td>120.0</td>\n",
       "      <td>android</td>\n",
       "      <td>33276914</td>\n",
       "      <td>female</td>\n",
       "      <td>Moscow</td>\n",
       "      <td>google_ads</td>\n",
       "      <td>2020-01-29</td>\n",
       "      <td>2020-01-29</td>\n",
       "      <td>0.0</td>\n",
       "    </tr>\n",
       "    <tr>\n",
       "      <th>2140431</th>\n",
       "      <td>2020-03-16</td>\n",
       "      <td>purchase</td>\n",
       "      <td>124.5</td>\n",
       "      <td>android</td>\n",
       "      <td>4965365</td>\n",
       "      <td>female</td>\n",
       "      <td>Moscow</td>\n",
       "      <td>google_ads</td>\n",
       "      <td>2020-01-01</td>\n",
       "      <td>2020-01-06</td>\n",
       "      <td>5.0</td>\n",
       "    </tr>\n",
       "    <tr>\n",
       "      <th>...</th>\n",
       "      <td>...</td>\n",
       "      <td>...</td>\n",
       "      <td>...</td>\n",
       "      <td>...</td>\n",
       "      <td>...</td>\n",
       "      <td>...</td>\n",
       "      <td>...</td>\n",
       "      <td>...</td>\n",
       "      <td>...</td>\n",
       "      <td>...</td>\n",
       "      <td>...</td>\n",
       "    </tr>\n",
       "    <tr>\n",
       "      <th>2141245</th>\n",
       "      <td>2020-03-16</td>\n",
       "      <td>purchase</td>\n",
       "      <td>4311.0</td>\n",
       "      <td>android</td>\n",
       "      <td>33570097</td>\n",
       "      <td>female</td>\n",
       "      <td>Moscow</td>\n",
       "      <td>-</td>\n",
       "      <td>2020-03-15</td>\n",
       "      <td>2020-03-16</td>\n",
       "      <td>1.0</td>\n",
       "    </tr>\n",
       "    <tr>\n",
       "      <th>2141247</th>\n",
       "      <td>2020-03-16</td>\n",
       "      <td>purchase</td>\n",
       "      <td>2818.5</td>\n",
       "      <td>android</td>\n",
       "      <td>2031937</td>\n",
       "      <td>female</td>\n",
       "      <td>Moscow</td>\n",
       "      <td>instagram_ads</td>\n",
       "      <td>2020-01-13</td>\n",
       "      <td>2020-01-13</td>\n",
       "      <td>0.0</td>\n",
       "    </tr>\n",
       "    <tr>\n",
       "      <th>2141248</th>\n",
       "      <td>2020-03-16</td>\n",
       "      <td>purchase</td>\n",
       "      <td>7530.0</td>\n",
       "      <td>android</td>\n",
       "      <td>1346476</td>\n",
       "      <td>female</td>\n",
       "      <td>Saint-Petersburg</td>\n",
       "      <td>-</td>\n",
       "      <td>2020-03-13</td>\n",
       "      <td>2020-03-13</td>\n",
       "      <td>0.0</td>\n",
       "    </tr>\n",
       "    <tr>\n",
       "      <th>2141251</th>\n",
       "      <td>2020-03-16</td>\n",
       "      <td>purchase</td>\n",
       "      <td>2432.5</td>\n",
       "      <td>ios</td>\n",
       "      <td>1008203</td>\n",
       "      <td>male</td>\n",
       "      <td>Moscow</td>\n",
       "      <td>facebook_ads</td>\n",
       "      <td>2020-01-02</td>\n",
       "      <td>2020-01-04</td>\n",
       "      <td>2.0</td>\n",
       "    </tr>\n",
       "    <tr>\n",
       "      <th>2141252</th>\n",
       "      <td>2020-03-16</td>\n",
       "      <td>purchase</td>\n",
       "      <td>7544.5</td>\n",
       "      <td>android</td>\n",
       "      <td>3520269</td>\n",
       "      <td>female</td>\n",
       "      <td>Moscow</td>\n",
       "      <td>google_ads</td>\n",
       "      <td>2020-02-06</td>\n",
       "      <td>2020-02-12</td>\n",
       "      <td>6.0</td>\n",
       "    </tr>\n",
       "  </tbody>\n",
       "</table>\n",
       "<p>425 rows × 11 columns</p>\n",
       "</div>"
      ],
      "text/plain": [
       "               date     event  purchase_sum  os_name  device_id  gender  \\\n",
       "2140427  2020-03-16  purchase         400.5  android   16877049    male   \n",
       "2140428  2020-03-16  purchase          98.5  android      20806  female   \n",
       "2140429  2020-03-16  purchase         636.0      ios    5493517    male   \n",
       "2140430  2020-03-16  purchase         120.0  android   33276914  female   \n",
       "2140431  2020-03-16  purchase         124.5  android    4965365  female   \n",
       "...             ...       ...           ...      ...        ...     ...   \n",
       "2141245  2020-03-16  purchase        4311.0  android   33570097  female   \n",
       "2141247  2020-03-16  purchase        2818.5  android    2031937  female   \n",
       "2141248  2020-03-16  purchase        7530.0  android    1346476  female   \n",
       "2141251  2020-03-16  purchase        2432.5      ios    1008203    male   \n",
       "2141252  2020-03-16  purchase        7544.5  android    3520269  female   \n",
       "\n",
       "                     city     utm_source date_install date_purchase  \\\n",
       "2140427            Moscow   facebook_ads   2020-03-16    2020-03-16   \n",
       "2140428            Moscow   facebook_ads   2020-01-02    2020-01-05   \n",
       "2140429            Moscow              -   2020-03-16    2020-03-16   \n",
       "2140430            Moscow     google_ads   2020-01-29    2020-01-29   \n",
       "2140431            Moscow     google_ads   2020-01-01    2020-01-06   \n",
       "...                   ...            ...          ...           ...   \n",
       "2141245            Moscow              -   2020-03-15    2020-03-16   \n",
       "2141247            Moscow  instagram_ads   2020-01-13    2020-01-13   \n",
       "2141248  Saint-Petersburg              -   2020-03-13    2020-03-13   \n",
       "2141251            Moscow   facebook_ads   2020-01-02    2020-01-04   \n",
       "2141252            Moscow     google_ads   2020-02-06    2020-02-12   \n",
       "\n",
       "         time_difference  \n",
       "2140427              0.0  \n",
       "2140428              3.0  \n",
       "2140429              0.0  \n",
       "2140430              0.0  \n",
       "2140431              5.0  \n",
       "...                  ...  \n",
       "2141245              1.0  \n",
       "2141247              0.0  \n",
       "2141248              0.0  \n",
       "2141251              2.0  \n",
       "2141252              6.0  \n",
       "\n",
       "[425 rows x 11 columns]"
      ]
     },
     "execution_count": 287,
     "metadata": {},
     "output_type": "execute_result"
    }
   ],
   "source": [
    "df.query('event == \"purchase\" & date == \"2020-03-16\" & time_difference < 7')"
   ]
  },
  {
   "cell_type": "code",
   "execution_count": 288,
   "id": "c30fac2a",
   "metadata": {},
   "outputs": [
    {
     "data": {
      "text/html": [
       "<div>\n",
       "<style scoped>\n",
       "    .dataframe tbody tr th:only-of-type {\n",
       "        vertical-align: middle;\n",
       "    }\n",
       "\n",
       "    .dataframe tbody tr th {\n",
       "        vertical-align: top;\n",
       "    }\n",
       "\n",
       "    .dataframe thead th {\n",
       "        text-align: right;\n",
       "    }\n",
       "</style>\n",
       "<table border=\"1\" class=\"dataframe\">\n",
       "  <thead>\n",
       "    <tr style=\"text-align: right;\">\n",
       "      <th></th>\n",
       "      <th>date</th>\n",
       "      <th>event</th>\n",
       "      <th>purchase_sum</th>\n",
       "      <th>os_name</th>\n",
       "      <th>device_id</th>\n",
       "      <th>gender</th>\n",
       "      <th>city</th>\n",
       "      <th>utm_source</th>\n",
       "      <th>date_install</th>\n",
       "      <th>date_purchase</th>\n",
       "      <th>time_difference</th>\n",
       "    </tr>\n",
       "  </thead>\n",
       "  <tbody>\n",
       "    <tr>\n",
       "      <th>1058559</th>\n",
       "      <td>2020-02-06</td>\n",
       "      <td>app_start</td>\n",
       "      <td>NaN</td>\n",
       "      <td>android</td>\n",
       "      <td>3520269</td>\n",
       "      <td>female</td>\n",
       "      <td>Moscow</td>\n",
       "      <td>google_ads</td>\n",
       "      <td>2020-02-06</td>\n",
       "      <td>2020-02-12</td>\n",
       "      <td>6.0</td>\n",
       "    </tr>\n",
       "    <tr>\n",
       "      <th>1064079</th>\n",
       "      <td>2020-02-06</td>\n",
       "      <td>choose_item</td>\n",
       "      <td>NaN</td>\n",
       "      <td>android</td>\n",
       "      <td>3520269</td>\n",
       "      <td>female</td>\n",
       "      <td>Moscow</td>\n",
       "      <td>google_ads</td>\n",
       "      <td>2020-02-06</td>\n",
       "      <td>2020-02-12</td>\n",
       "      <td>6.0</td>\n",
       "    </tr>\n",
       "    <tr>\n",
       "      <th>1068858</th>\n",
       "      <td>2020-02-06</td>\n",
       "      <td>search</td>\n",
       "      <td>NaN</td>\n",
       "      <td>android</td>\n",
       "      <td>3520269</td>\n",
       "      <td>female</td>\n",
       "      <td>Moscow</td>\n",
       "      <td>google_ads</td>\n",
       "      <td>2020-02-06</td>\n",
       "      <td>2020-02-12</td>\n",
       "      <td>6.0</td>\n",
       "    </tr>\n",
       "    <tr>\n",
       "      <th>1162489</th>\n",
       "      <td>2020-02-10</td>\n",
       "      <td>app_start</td>\n",
       "      <td>NaN</td>\n",
       "      <td>android</td>\n",
       "      <td>3520269</td>\n",
       "      <td>female</td>\n",
       "      <td>Moscow</td>\n",
       "      <td>google_ads</td>\n",
       "      <td>2020-02-06</td>\n",
       "      <td>2020-02-12</td>\n",
       "      <td>6.0</td>\n",
       "    </tr>\n",
       "    <tr>\n",
       "      <th>1164791</th>\n",
       "      <td>2020-02-10</td>\n",
       "      <td>choose_item</td>\n",
       "      <td>NaN</td>\n",
       "      <td>android</td>\n",
       "      <td>3520269</td>\n",
       "      <td>female</td>\n",
       "      <td>Moscow</td>\n",
       "      <td>google_ads</td>\n",
       "      <td>2020-02-06</td>\n",
       "      <td>2020-02-12</td>\n",
       "      <td>6.0</td>\n",
       "    </tr>\n",
       "    <tr>\n",
       "      <th>...</th>\n",
       "      <td>...</td>\n",
       "      <td>...</td>\n",
       "      <td>...</td>\n",
       "      <td>...</td>\n",
       "      <td>...</td>\n",
       "      <td>...</td>\n",
       "      <td>...</td>\n",
       "      <td>...</td>\n",
       "      <td>...</td>\n",
       "      <td>...</td>\n",
       "      <td>...</td>\n",
       "    </tr>\n",
       "    <tr>\n",
       "      <th>2505333</th>\n",
       "      <td>2020-03-31</td>\n",
       "      <td>choose_item</td>\n",
       "      <td>NaN</td>\n",
       "      <td>android</td>\n",
       "      <td>3520269</td>\n",
       "      <td>female</td>\n",
       "      <td>Moscow</td>\n",
       "      <td>google_ads</td>\n",
       "      <td>2020-02-06</td>\n",
       "      <td>2020-02-12</td>\n",
       "      <td>6.0</td>\n",
       "    </tr>\n",
       "    <tr>\n",
       "      <th>2508617</th>\n",
       "      <td>2020-03-31</td>\n",
       "      <td>search</td>\n",
       "      <td>NaN</td>\n",
       "      <td>android</td>\n",
       "      <td>3520269</td>\n",
       "      <td>female</td>\n",
       "      <td>Moscow</td>\n",
       "      <td>google_ads</td>\n",
       "      <td>2020-02-06</td>\n",
       "      <td>2020-02-12</td>\n",
       "      <td>6.0</td>\n",
       "    </tr>\n",
       "    <tr>\n",
       "      <th>2514644</th>\n",
       "      <td>2020-03-31</td>\n",
       "      <td>tap_basket</td>\n",
       "      <td>NaN</td>\n",
       "      <td>android</td>\n",
       "      <td>3520269</td>\n",
       "      <td>female</td>\n",
       "      <td>Moscow</td>\n",
       "      <td>google_ads</td>\n",
       "      <td>2020-02-06</td>\n",
       "      <td>2020-02-12</td>\n",
       "      <td>6.0</td>\n",
       "    </tr>\n",
       "    <tr>\n",
       "      <th>2603014</th>\n",
       "      <td>2020-02-06</td>\n",
       "      <td>app_install</td>\n",
       "      <td>NaN</td>\n",
       "      <td>android</td>\n",
       "      <td>3520269</td>\n",
       "      <td>female</td>\n",
       "      <td>Moscow</td>\n",
       "      <td>google_ads</td>\n",
       "      <td>2020-02-06</td>\n",
       "      <td>2020-02-12</td>\n",
       "      <td>6.0</td>\n",
       "    </tr>\n",
       "    <tr>\n",
       "      <th>2721079</th>\n",
       "      <td>2020-02-12</td>\n",
       "      <td>register</td>\n",
       "      <td>NaN</td>\n",
       "      <td>android</td>\n",
       "      <td>3520269</td>\n",
       "      <td>female</td>\n",
       "      <td>Moscow</td>\n",
       "      <td>google_ads</td>\n",
       "      <td>2020-02-06</td>\n",
       "      <td>2020-02-12</td>\n",
       "      <td>6.0</td>\n",
       "    </tr>\n",
       "  </tbody>\n",
       "</table>\n",
       "<p>127 rows × 11 columns</p>\n",
       "</div>"
      ],
      "text/plain": [
       "               date        event  purchase_sum  os_name  device_id  gender  \\\n",
       "1058559  2020-02-06    app_start           NaN  android    3520269  female   \n",
       "1064079  2020-02-06  choose_item           NaN  android    3520269  female   \n",
       "1068858  2020-02-06       search           NaN  android    3520269  female   \n",
       "1162489  2020-02-10    app_start           NaN  android    3520269  female   \n",
       "1164791  2020-02-10  choose_item           NaN  android    3520269  female   \n",
       "...             ...          ...           ...      ...        ...     ...   \n",
       "2505333  2020-03-31  choose_item           NaN  android    3520269  female   \n",
       "2508617  2020-03-31       search           NaN  android    3520269  female   \n",
       "2514644  2020-03-31   tap_basket           NaN  android    3520269  female   \n",
       "2603014  2020-02-06  app_install           NaN  android    3520269  female   \n",
       "2721079  2020-02-12     register           NaN  android    3520269  female   \n",
       "\n",
       "           city  utm_source date_install date_purchase  time_difference  \n",
       "1058559  Moscow  google_ads   2020-02-06    2020-02-12              6.0  \n",
       "1064079  Moscow  google_ads   2020-02-06    2020-02-12              6.0  \n",
       "1068858  Moscow  google_ads   2020-02-06    2020-02-12              6.0  \n",
       "1162489  Moscow  google_ads   2020-02-06    2020-02-12              6.0  \n",
       "1164791  Moscow  google_ads   2020-02-06    2020-02-12              6.0  \n",
       "...         ...         ...          ...           ...              ...  \n",
       "2505333  Moscow  google_ads   2020-02-06    2020-02-12              6.0  \n",
       "2508617  Moscow  google_ads   2020-02-06    2020-02-12              6.0  \n",
       "2514644  Moscow  google_ads   2020-02-06    2020-02-12              6.0  \n",
       "2603014  Moscow  google_ads   2020-02-06    2020-02-12              6.0  \n",
       "2721079  Moscow  google_ads   2020-02-06    2020-02-12              6.0  \n",
       "\n",
       "[127 rows x 11 columns]"
      ]
     },
     "execution_count": 288,
     "metadata": {},
     "output_type": "execute_result"
    }
   ],
   "source": [
    "df[df.device_id == 3520269]"
   ]
  },
  {
   "cell_type": "code",
   "execution_count": 197,
   "id": "2517eb1b",
   "metadata": {},
   "outputs": [
    {
     "name": "stdout",
     "output_type": "stream",
     "text": [
      "Зарегистрированные пользователи:\n",
      "event\n",
      "app_start      557821\n",
      "choose_item    398165\n",
      "purchase        95333\n",
      "search         527322\n",
      "tap_basket     275611\n",
      "dtype: int64\n",
      "Конверсия между этапами:\n",
      "event\n",
      "app_start           NaN\n",
      "choose_item    0.713786\n",
      "purchase       0.239431\n",
      "search         5.531369\n",
      "tap_basket     0.522662\n",
      "dtype: float64\n",
      "Шаг с наименьшей конверсией для зарегистрированных пользователей: purchase\n",
      "\n",
      "Незарегистрированные пользователи:\n",
      "event\n",
      "app_install    154597\n",
      "app_start      190884\n",
      "choose_item    140504\n",
      "purchase        46050\n",
      "register        78310\n",
      "search         181317\n",
      "tap_basket     102054\n",
      "dtype: int64\n",
      "Конверсия между этапами:\n",
      "event\n",
      "app_install         NaN\n",
      "app_start      1.234720\n",
      "choose_item    0.736070\n",
      "purchase       0.327749\n",
      "register       1.700543\n",
      "search         2.315375\n",
      "tap_basket     0.562848\n",
      "dtype: float64\n"
     ]
    }
   ],
   "source": [
    "# Добавление колонки с датой регистрации\n",
    "df.loc[df['event'] == 'register', 'registration_date'] = df.loc[df['event'] == 'register', 'date']\n",
    "df['registration_date'] = df.groupby('device_id')['registration_date'].ffill()\n",
    "\n",
    "# Выделение групп зарегистрированных и незарегистрированных пользователей\n",
    "registered_users = df[df['registration_date'] < df['date']]\n",
    "unregistered_users = df[df['registration_date'] >= df['date']]\n",
    "\n",
    "# Подсчет количества пользователей на каждом этапе воронки для обеих групп\n",
    "registered_funnel = registered_users.groupby('event').size()\n",
    "unregistered_funnel = unregistered_users.groupby('event').size()\n",
    "\n",
    "# Рассчет конверсии между этапами для каждой группы пользователей\n",
    "registered_conversion = registered_funnel / registered_funnel.shift(1)\n",
    "unregistered_conversion = unregistered_funnel / unregistered_funnel.shift(1)\n",
    "\n",
    "# Определение шага с самой низкой конверсией для зарегистрированных пользователей\n",
    "lowest_conversion_step = registered_conversion.idxmin()\n",
    "print(\"Зарегистрированные пользователи:\")\n",
    "print(registered_funnel)\n",
    "print(\"Конверсия между этапами:\")\n",
    "print(registered_conversion)\n",
    "print(\"Шаг с наименьшей конверсией для зарегистрированных пользователей:\", lowest_conversion_step)\n",
    "print()\n",
    "print(\"Незарегистрированные пользователи:\")\n",
    "print(unregistered_funnel)\n",
    "print(\"Конверсия между этапами:\")\n",
    "print(unregistered_conversion)"
   ]
  },
  {
   "cell_type": "code",
   "execution_count": 203,
   "id": "17589421",
   "metadata": {},
   "outputs": [
    {
     "data": {
      "text/plain": [
       "'yandex-direct'"
      ]
     },
     "execution_count": 203,
     "metadata": {},
     "output_type": "execute_result"
    }
   ],
   "source": [
    "conversion_rates = df[df['event'] == 'purchase'].groupby('utm_source')['device_id'].nunique() / df[df['event'] == 'app_start'].groupby('utm_source')['device_id'].nunique()\n",
    "lowest_conversion_channel = conversion_rates.idxmin()\n",
    "lowest_conversion_channel"
   ]
  },
  {
   "cell_type": "code",
   "execution_count": 201,
   "id": "880238a0",
   "metadata": {},
   "outputs": [
    {
     "data": {
      "text/plain": [
       "utm_source\n",
       "-                16598\n",
       "facebook_ads      9017\n",
       "google_ads       11339\n",
       "instagram_ads    10762\n",
       "referal           6362\n",
       "vk_ads           12364\n",
       "yandex-direct    12028\n",
       "Name: device_id, dtype: int64"
      ]
     },
     "execution_count": 201,
     "metadata": {},
     "output_type": "execute_result"
    }
   ],
   "source": [
    "df[df['event'] == 'purchase'].groupby('utm_source')['device_id'].nunique()"
   ]
  },
  {
   "cell_type": "code",
   "execution_count": 202,
   "id": "f2130258",
   "metadata": {},
   "outputs": [
    {
     "data": {
      "text/plain": [
       "Series([], Name: device_id, dtype: int64)"
      ]
     },
     "execution_count": 202,
     "metadata": {},
     "output_type": "execute_result"
    }
   ],
   "source": [
    "df[df['event'] == 'app_open'].groupby('utm_source')['device_id'].nunique()"
   ]
  },
  {
   "cell_type": "code",
   "execution_count": 208,
   "id": "48b28863",
   "metadata": {},
   "outputs": [],
   "source": [
    "first_purchase = df[df['event'] == 'purchase'].groupby('device_id').first()\n",
    "median_purchase = first_purchase.groupby('utm_source')['purchase_sum'].median()\n",
    "highest_median_channel = median_purchase.idxmax()"
   ]
  },
  {
   "cell_type": "code",
   "execution_count": 210,
   "id": "a338c85d",
   "metadata": {},
   "outputs": [
    {
     "data": {
      "text/plain": [
       "utm_source\n",
       "-                398.5\n",
       "facebook_ads     389.0\n",
       "google_ads       390.5\n",
       "instagram_ads    393.5\n",
       "referal          395.5\n",
       "vk_ads           393.0\n",
       "yandex-direct    392.5\n",
       "Name: purchase_sum, dtype: float64"
      ]
     },
     "execution_count": 210,
     "metadata": {},
     "output_type": "execute_result"
    }
   ],
   "source": [
    "median_purchase"
   ]
  },
  {
   "cell_type": "code",
   "execution_count": 211,
   "id": "8a74af5d",
   "metadata": {},
   "outputs": [],
   "source": [
    "revenue = df[df['event'] == 'purchase'].groupby('utm_source')['purchase_sum'].sum()"
   ]
  },
  {
   "cell_type": "code",
   "execution_count": 212,
   "id": "b6214581",
   "metadata": {},
   "outputs": [
    {
     "data": {
      "text/plain": [
       "utm_source\n",
       "-                21449749.5\n",
       "facebook_ads     12249901.0\n",
       "google_ads       12868276.0\n",
       "instagram_ads    14546969.0\n",
       "referal           8837044.5\n",
       "vk_ads           16389652.5\n",
       "yandex-direct    13915368.0\n",
       "Name: purchase_sum, dtype: float64"
      ]
     },
     "execution_count": 212,
     "metadata": {},
     "output_type": "execute_result"
    }
   ],
   "source": [
    "revenue"
   ]
  },
  {
   "cell_type": "code",
   "execution_count": 214,
   "id": "b0354477",
   "metadata": {},
   "outputs": [
    {
     "data": {
      "text/plain": [
       "1.3263206835646477"
      ]
     },
     "execution_count": 214,
     "metadata": {},
     "output_type": "execute_result"
    }
   ],
   "source": [
    "13915368 / 10491707"
   ]
  },
  {
   "cell_type": "code",
   "execution_count": 215,
   "id": "111aa9cb",
   "metadata": {},
   "outputs": [
    {
     "data": {
      "text/plain": [
       "1.221492645667088"
      ]
     },
     "execution_count": 215,
     "metadata": {},
     "output_type": "execute_result"
    }
   ],
   "source": [
    "12868276/10534878"
   ]
  },
  {
   "cell_type": "code",
   "execution_count": 216,
   "id": "222ab9d8",
   "metadata": {},
   "outputs": [
    {
     "data": {
      "text/plain": [
       "1.4259826380263403"
      ]
     },
     "execution_count": 216,
     "metadata": {},
     "output_type": "execute_result"
    }
   ],
   "source": [
    "12249901/8590498"
   ]
  },
  {
   "cell_type": "code",
   "execution_count": 217,
   "id": "166044d3",
   "metadata": {},
   "outputs": [
    {
     "data": {
      "text/plain": [
       "1.6990895187432855"
      ]
     },
     "execution_count": 217,
     "metadata": {},
     "output_type": "execute_result"
    }
   ],
   "source": [
    "14546969/8561626"
   ]
  },
  {
   "cell_type": "code",
   "execution_count": 218,
   "id": "fdc7c529",
   "metadata": {},
   "outputs": [
    {
     "data": {
      "text/plain": [
       "1.7155596187420128"
      ]
     },
     "execution_count": 218,
     "metadata": {},
     "output_type": "execute_result"
    }
   ],
   "source": [
    "16389652/9553531"
   ]
  },
  {
   "cell_type": "code",
   "execution_count": null,
   "id": "a3069d61",
   "metadata": {},
   "outputs": [],
   "source": []
  }
 ],
 "metadata": {
  "kernelspec": {
   "display_name": "Python 3 (ipykernel)",
   "language": "python",
   "name": "python3"
  },
  "language_info": {
   "codemirror_mode": {
    "name": "ipython",
    "version": 3
   },
   "file_extension": ".py",
   "mimetype": "text/x-python",
   "name": "python",
   "nbconvert_exporter": "python",
   "pygments_lexer": "ipython3",
   "version": "3.9.13"
  }
 },
 "nbformat": 4,
 "nbformat_minor": 5
}
