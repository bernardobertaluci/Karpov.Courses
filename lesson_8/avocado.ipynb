{
 "cells": [
  {
   "cell_type": "code",
   "execution_count": 1,
   "metadata": {},
   "outputs": [],
   "source": [
    "import pandas as pd"
   ]
  },
  {
   "cell_type": "code",
   "execution_count": 2,
   "metadata": {},
   "outputs": [
    {
     "data": {
      "text/html": [
       "<div>\n",
       "<style scoped>\n",
       "    .dataframe tbody tr th:only-of-type {\n",
       "        vertical-align: middle;\n",
       "    }\n",
       "\n",
       "    .dataframe tbody tr th {\n",
       "        vertical-align: top;\n",
       "    }\n",
       "\n",
       "    .dataframe thead th {\n",
       "        text-align: right;\n",
       "    }\n",
       "</style>\n",
       "<table border=\"1\" class=\"dataframe\">\n",
       "  <thead>\n",
       "    <tr style=\"text-align: right;\">\n",
       "      <th></th>\n",
       "      <th>type</th>\n",
       "      <th>AvgPrice_2015</th>\n",
       "      <th>AvgPrice_2016</th>\n",
       "      <th>AvgPrice_2017</th>\n",
       "      <th>AvgPrice_2018</th>\n",
       "    </tr>\n",
       "  </thead>\n",
       "  <tbody>\n",
       "    <tr>\n",
       "      <th>0</th>\n",
       "      <td>conventional</td>\n",
       "      <td>1.077963</td>\n",
       "      <td>1.105595</td>\n",
       "      <td>1.294888</td>\n",
       "      <td>1.127886</td>\n",
       "    </tr>\n",
       "    <tr>\n",
       "      <th>1</th>\n",
       "      <td>organic</td>\n",
       "      <td>1.673324</td>\n",
       "      <td>1.571684</td>\n",
       "      <td>1.735521</td>\n",
       "      <td>1.567176</td>\n",
       "    </tr>\n",
       "  </tbody>\n",
       "</table>\n",
       "</div>"
      ],
      "text/plain": [
       "           type  AvgPrice_2015  AvgPrice_2016  AvgPrice_2017  AvgPrice_2018\n",
       "0  conventional       1.077963       1.105595       1.294888       1.127886\n",
       "1       organic       1.673324       1.571684       1.735521       1.567176"
      ]
     },
     "execution_count": 2,
     "metadata": {},
     "output_type": "execute_result"
    }
   ],
   "source": [
    "avocado_agg = pd.DataFrame({'type' : ['conventional', 'organic'],\n",
    "                            'AvgPrice_2015' : [1.077963, 1.673324],\n",
    "                            'AvgPrice_2016' : [1.105595, 1.571684],\n",
    "                            'AvgPrice_2017' : [1.294888, 1.735521],\n",
    "                            'AvgPrice_2018' : [1.127886, 1.567176],\n",
    "                            })\n",
    "avocado_agg"
   ]
  },
  {
   "cell_type": "code",
   "execution_count": 5,
   "metadata": {},
   "outputs": [],
   "source": [
    "long_avacado_agg = pd.wide_to_long(avocado_agg, 'AvgPrice', i='type', j='year', sep='_')"
   ]
  },
  {
   "cell_type": "code",
   "execution_count": 6,
   "metadata": {},
   "outputs": [
    {
     "data": {
      "text/html": [
       "<div>\n",
       "<style scoped>\n",
       "    .dataframe tbody tr th:only-of-type {\n",
       "        vertical-align: middle;\n",
       "    }\n",
       "\n",
       "    .dataframe tbody tr th {\n",
       "        vertical-align: top;\n",
       "    }\n",
       "\n",
       "    .dataframe thead th {\n",
       "        text-align: right;\n",
       "    }\n",
       "</style>\n",
       "<table border=\"1\" class=\"dataframe\">\n",
       "  <thead>\n",
       "    <tr style=\"text-align: right;\">\n",
       "      <th></th>\n",
       "      <th></th>\n",
       "      <th>AvgPrice</th>\n",
       "    </tr>\n",
       "    <tr>\n",
       "      <th>type</th>\n",
       "      <th>year</th>\n",
       "      <th></th>\n",
       "    </tr>\n",
       "  </thead>\n",
       "  <tbody>\n",
       "    <tr>\n",
       "      <th>conventional</th>\n",
       "      <th>2015</th>\n",
       "      <td>1.077963</td>\n",
       "    </tr>\n",
       "    <tr>\n",
       "      <th>organic</th>\n",
       "      <th>2015</th>\n",
       "      <td>1.673324</td>\n",
       "    </tr>\n",
       "    <tr>\n",
       "      <th>conventional</th>\n",
       "      <th>2016</th>\n",
       "      <td>1.105595</td>\n",
       "    </tr>\n",
       "    <tr>\n",
       "      <th>organic</th>\n",
       "      <th>2016</th>\n",
       "      <td>1.571684</td>\n",
       "    </tr>\n",
       "    <tr>\n",
       "      <th>conventional</th>\n",
       "      <th>2017</th>\n",
       "      <td>1.294888</td>\n",
       "    </tr>\n",
       "    <tr>\n",
       "      <th>organic</th>\n",
       "      <th>2017</th>\n",
       "      <td>1.735521</td>\n",
       "    </tr>\n",
       "    <tr>\n",
       "      <th>conventional</th>\n",
       "      <th>2018</th>\n",
       "      <td>1.127886</td>\n",
       "    </tr>\n",
       "    <tr>\n",
       "      <th>organic</th>\n",
       "      <th>2018</th>\n",
       "      <td>1.567176</td>\n",
       "    </tr>\n",
       "  </tbody>\n",
       "</table>\n",
       "</div>"
      ],
      "text/plain": [
       "                   AvgPrice\n",
       "type         year          \n",
       "conventional 2015  1.077963\n",
       "organic      2015  1.673324\n",
       "conventional 2016  1.105595\n",
       "organic      2016  1.571684\n",
       "conventional 2017  1.294888\n",
       "organic      2017  1.735521\n",
       "conventional 2018  1.127886\n",
       "organic      2018  1.567176"
      ]
     },
     "execution_count": 6,
     "metadata": {},
     "output_type": "execute_result"
    }
   ],
   "source": [
    "long_avacado_agg"
   ]
  },
  {
   "cell_type": "code",
   "execution_count": null,
   "metadata": {},
   "outputs": [],
   "source": []
  }
 ],
 "metadata": {
  "kernelspec": {
   "display_name": "Python 3",
   "language": "python",
   "name": "python3"
  },
  "language_info": {
   "codemirror_mode": {
    "name": "ipython",
    "version": 3
   },
   "file_extension": ".py",
   "mimetype": "text/x-python",
   "name": "python",
   "nbconvert_exporter": "python",
   "pygments_lexer": "ipython3",
   "version": "3.7.3"
  }
 },
 "nbformat": 4,
 "nbformat_minor": 4
}
